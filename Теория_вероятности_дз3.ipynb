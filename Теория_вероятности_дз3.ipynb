{
  "nbformat": 4,
  "nbformat_minor": 0,
  "metadata": {
    "colab": {
      "name": "Теория вероятности дз3.ipynb",
      "provenance": [],
      "collapsed_sections": [],
      "authorship_tag": "ABX9TyP90irVN9KKwKimnc+HwTvc",
      "include_colab_link": true
    },
    "kernelspec": {
      "name": "python3",
      "display_name": "Python 3"
    },
    "language_info": {
      "name": "python"
    }
  },
  "cells": [
    {
      "cell_type": "markdown",
      "metadata": {
        "id": "view-in-github",
        "colab_type": "text"
      },
      "source": [
        "<a href=\"https://colab.research.google.com/github/MikeSalnikov/MathAn/blob/main/%D0%A2%D0%B5%D0%BE%D1%80%D0%B8%D1%8F_%D0%B2%D0%B5%D1%80%D0%BE%D1%8F%D1%82%D0%BD%D0%BE%D1%81%D1%82%D0%B8_%D0%B4%D0%B73.ipynb\" target=\"_parent\"><img src=\"https://colab.research.google.com/assets/colab-badge.svg\" alt=\"Open In Colab\"/></a>"
      ]
    },
    {
      "cell_type": "code",
      "execution_count": 6,
      "metadata": {
        "id": "uqBEKYWxhhPj"
      },
      "outputs": [],
      "source": [
        "import numpy as np\n",
        "import pandas as pd\n",
        "from scipy.stats import  binom\n",
        "from scipy.stats import  poisson"
      ]
    },
    {
      "cell_type": "code",
      "source": [
        "def combinations(n, k):\n",
        "    return (np.math.factorial(n)/(np.math.factorial(k)*np.math.factorial(n-k)))"
      ],
      "metadata": {
        "id": "iQskQX-IidUY"
      },
      "execution_count": 7,
      "outputs": []
    },
    {
      "cell_type": "markdown",
      "source": [
        "**Задача 1**"
      ],
      "metadata": {
        "id": "tpu7LLyPilcH"
      }
    },
    {
      "cell_type": "markdown",
      "source": [
        "Даны значения зарплат из выборки выпускников: 100, 80, 75, 77, 89, 33, 45, 25, 65, 17, 30, 24, 57, 55, 70, 75, 65, 84, 90, 150. Посчитать (желательно без использования статистических методов наподобие std, var, mean) среднее арифметическое, среднее квадратичное отклонение, смещенную и несмещенную оценки дисперсий, первый и третий квартили, интерквартильное расстояние. Найти выбросы в выборке, используя для этого \"усы\" из boxplot. В этой задаче можно использовать статистические функции."
      ],
      "metadata": {
        "id": "bMhkmSsbinwM"
      }
    },
    {
      "cell_type": "code",
      "source": [
        "sal = np.array([100, 80, 75, 77, 89, 33, 45, 25, 65, 17, 30, 24, 57, 55, 70, 75, 65, 84, 90, 150])"
      ],
      "metadata": {
        "id": "9syBEC5NjAia"
      },
      "execution_count": 20,
      "outputs": []
    },
    {
      "cell_type": "markdown",
      "source": [
        "среднее арифметическое"
      ],
      "metadata": {
        "id": "LWeCPmI8joZi"
      }
    },
    {
      "cell_type": "code",
      "source": [
        "sa=sal.sum()/sal.size\n",
        "sa\n"
      ],
      "metadata": {
        "colab": {
          "base_uri": "https://localhost:8080/"
        },
        "id": "ihXU0lskjP4n",
        "outputId": "526c6110-960e-4397-ef71-e0a1239dfe53"
      },
      "execution_count": 9,
      "outputs": [
        {
          "output_type": "execute_result",
          "data": {
            "text/plain": [
              "65.3"
            ]
          },
          "metadata": {},
          "execution_count": 9
        }
      ]
    },
    {
      "cell_type": "code",
      "source": [
        "sa_=sal.mean()\n",
        "sa_"
      ],
      "metadata": {
        "colab": {
          "base_uri": "https://localhost:8080/"
        },
        "id": "9C15uz8ujcmv",
        "outputId": "55e543ab-5799-4d2a-fa95-7da9400e5c79"
      },
      "execution_count": 19,
      "outputs": [
        {
          "output_type": "execute_result",
          "data": {
            "text/plain": [
              "65.3"
            ]
          },
          "metadata": {},
          "execution_count": 19
        }
      ]
    },
    {
      "cell_type": "markdown",
      "source": [
        "среднее квадратичное отклонение СКО"
      ],
      "metadata": {
        "id": "2I3eroRCjy7j"
      }
    },
    {
      "cell_type": "code",
      "source": [
        "saq=(sal-sa)**2\n",
        "saq"
      ],
      "metadata": {
        "colab": {
          "base_uri": "https://localhost:8080/"
        },
        "id": "n06xKZXRj0bv",
        "outputId": "5a23b68e-f112-48e8-e431-b86e370c4c58"
      },
      "execution_count": 10,
      "outputs": [
        {
          "output_type": "execute_result",
          "data": {
            "text/plain": [
              "array([1.20409e+03, 2.16090e+02, 9.40900e+01, 1.36890e+02, 5.61690e+02,\n",
              "       1.04329e+03, 4.12090e+02, 1.62409e+03, 9.00000e-02, 2.33289e+03,\n",
              "       1.24609e+03, 1.70569e+03, 6.88900e+01, 1.06090e+02, 2.20900e+01,\n",
              "       9.40900e+01, 9.00000e-02, 3.49690e+02, 6.10090e+02, 7.17409e+03])"
            ]
          },
          "metadata": {},
          "execution_count": 10
        }
      ]
    },
    {
      "cell_type": "code",
      "source": [
        "std=(saq.sum()/sal.size)**.5\n",
        "stdd=(saq.sum()/(sal.size-1))**.5"
      ],
      "metadata": {
        "id": "rYMVd6qaj_wN"
      },
      "execution_count": 11,
      "outputs": []
    },
    {
      "cell_type": "code",
      "source": [
        "std_=sal.std()\n",
        "stdd_=sal.std(ddof=1)"
      ],
      "metadata": {
        "id": "ScH7VozDkFZ7"
      },
      "execution_count": 12,
      "outputs": []
    },
    {
      "cell_type": "markdown",
      "source": [
        "считаем дисперсию смещенная оценка"
      ],
      "metadata": {
        "id": "R-tXb1ZrkcRt"
      }
    },
    {
      "cell_type": "code",
      "source": [
        "var=saq.sum()/sal.size\n",
        "var_=sal.var()\n",
        "var"
      ],
      "metadata": {
        "colab": {
          "base_uri": "https://localhost:8080/"
        },
        "id": "0MZJJaKhkdSu",
        "outputId": "6e61c007-ec68-4fcc-e12f-160337354302"
      },
      "execution_count": 13,
      "outputs": [
        {
          "output_type": "execute_result",
          "data": {
            "text/plain": [
              "950.11"
            ]
          },
          "metadata": {},
          "execution_count": 13
        }
      ]
    },
    {
      "cell_type": "markdown",
      "source": [
        "считаем дисперсию несмещенная оценка"
      ],
      "metadata": {
        "id": "u2dmjLeeklBs"
      }
    },
    {
      "cell_type": "code",
      "source": [
        "vard=saq.sum()/(sal.size-1)\n",
        "vard_=sal.var(ddof=1)"
      ],
      "metadata": {
        "id": "zUc_BagdknR3"
      },
      "execution_count": 14,
      "outputs": []
    },
    {
      "cell_type": "code",
      "source": [
        "print(\"1. Среднее арифметическое \",sa,sa_)\n",
        "print(\"1. СКО \",std,std_)\n",
        "print(\"1. дисперсия смещенная оценка \",var,var_)\n",
        "print(\"1. дисперсия несмещенная оценка \",vard,vard_)\n"
      ],
      "metadata": {
        "colab": {
          "base_uri": "https://localhost:8080/"
        },
        "id": "J64f6I6TksCh",
        "outputId": "adb89f49-23d7-4a1e-d27f-6582b66e9390"
      },
      "execution_count": 21,
      "outputs": [
        {
          "output_type": "stream",
          "name": "stdout",
          "text": [
            "1. Среднее арифметическое  65.3 65.3\n",
            "1. СКО  30.823854398825596 30.823854398825596\n",
            "1. дисперсия смещенная оценка  950.11 950.11\n",
            "1. дисперсия несмещенная оценка  1000.1157894736842 1000.1157894736842\n"
          ]
        }
      ]
    },
    {
      "cell_type": "code",
      "source": [
        "import seaborn as sns"
      ],
      "metadata": {
        "id": "LIXkfzS6Xp0Y"
      },
      "execution_count": 22,
      "outputs": []
    },
    {
      "cell_type": "markdown",
      "source": [
        "1квартиль"
      ],
      "metadata": {
        "id": "0u_fsvasam7B"
      }
    },
    {
      "cell_type": "code",
      "source": [
        "Q1 = np.median(sal[: 10 ])\n",
        "Q1"
      ],
      "metadata": {
        "colab": {
          "base_uri": "https://localhost:8080/"
        },
        "id": "PSCQKmRhaZkM",
        "outputId": "87129964-c846-41a0-d7ac-1caf24a35a8c"
      },
      "execution_count": 29,
      "outputs": [
        {
          "output_type": "execute_result",
          "data": {
            "text/plain": [
              "70.0"
            ]
          },
          "metadata": {},
          "execution_count": 29
        }
      ]
    },
    {
      "cell_type": "markdown",
      "source": [
        "3й квартиль"
      ],
      "metadata": {
        "id": "H1yzIO-maosm"
      }
    },
    {
      "cell_type": "code",
      "source": [
        "Q3 = np.median(sal[ 10 :])\n",
        "Q3"
      ],
      "metadata": {
        "colab": {
          "base_uri": "https://localhost:8080/"
        },
        "id": "QKecBYiiaqnC",
        "outputId": "190727af-71e9-44ea-e0d4-6481174795dc"
      },
      "execution_count": 31,
      "outputs": [
        {
          "output_type": "execute_result",
          "data": {
            "text/plain": [
              "67.5"
            ]
          },
          "metadata": {},
          "execution_count": 31
        }
      ]
    },
    {
      "cell_type": "markdown",
      "source": [
        "# Interquartile range (IQR)\n"
      ],
      "metadata": {
        "id": "xfxEfjuZazBW"
      }
    },
    {
      "cell_type": "code",
      "source": [
        "IQR = Q3 - Q1\n",
        "IQR"
      ],
      "metadata": {
        "colab": {
          "base_uri": "https://localhost:8080/"
        },
        "id": "TMk98NxEa3gD",
        "outputId": "c8f2f0b5-a2e3-47ec-f195-fc828d9cb65d"
      },
      "execution_count": 33,
      "outputs": [
        {
          "output_type": "execute_result",
          "data": {
            "text/plain": [
              "-2.5"
            ]
          },
          "metadata": {},
          "execution_count": 33
        }
      ]
    },
    {
      "cell_type": "code",
      "source": [
        "sns.boxplot(sal, orient='v')\n",
        "plt.show()"
      ],
      "metadata": {
        "colab": {
          "base_uri": "https://localhost:8080/",
          "height": 520
        },
        "id": "ENXe5ESZXrsB",
        "outputId": "a15f4d56-229b-42ef-f7c2-6f17b351510b"
      },
      "execution_count": 36,
      "outputs": [
        {
          "output_type": "stream",
          "name": "stderr",
          "text": [
            "/usr/local/lib/python3.7/dist-packages/seaborn/_decorators.py:43: FutureWarning: Pass the following variable as a keyword arg: x. From version 0.12, the only valid positional argument will be `data`, and passing other arguments without an explicit keyword will result in an error or misinterpretation.\n",
            "  FutureWarning\n",
            "/usr/local/lib/python3.7/dist-packages/seaborn/_core.py:1326: UserWarning: Vertical orientation ignored with only `x` specified.\n",
            "  warnings.warn(single_var_warning.format(\"Vertical\", \"x\"))\n"
          ]
        },
        {
          "output_type": "error",
          "ename": "NameError",
          "evalue": "ignored",
          "traceback": [
            "\u001b[0;31m---------------------------------------------------------------------------\u001b[0m",
            "\u001b[0;31mNameError\u001b[0m                                 Traceback (most recent call last)",
            "\u001b[0;32m<ipython-input-36-e652e12c880a>\u001b[0m in \u001b[0;36m<module>\u001b[0;34m()\u001b[0m\n\u001b[1;32m      1\u001b[0m \u001b[0msns\u001b[0m\u001b[0;34m.\u001b[0m\u001b[0mboxplot\u001b[0m\u001b[0;34m(\u001b[0m\u001b[0msal\u001b[0m\u001b[0;34m,\u001b[0m \u001b[0morient\u001b[0m\u001b[0;34m=\u001b[0m\u001b[0;34m'v'\u001b[0m\u001b[0;34m)\u001b[0m\u001b[0;34m\u001b[0m\u001b[0;34m\u001b[0m\u001b[0m\n\u001b[0;32m----> 2\u001b[0;31m \u001b[0mplt\u001b[0m\u001b[0;34m.\u001b[0m\u001b[0mshow\u001b[0m\u001b[0;34m(\u001b[0m\u001b[0;34m)\u001b[0m\u001b[0;34m\u001b[0m\u001b[0;34m\u001b[0m\u001b[0m\n\u001b[0m",
            "\u001b[0;31mNameError\u001b[0m: name 'plt' is not defined"
          ]
        },
        {
          "output_type": "display_data",
          "data": {
            "text/plain": [
              "<Figure size 432x288 with 1 Axes>"
            ],
            "image/png": "[encoded data removed]"
          },
          "metadata": {
            "needs_background": "light"
          }
        }
      ]
    },
    {
      "cell_type": "markdown",
      "source": [
        "**Задача 2**"
      ],
      "metadata": {
        "id": "MyKxRwN5kwEn"
      }
    },
    {
      "cell_type": "markdown",
      "source": [
        "В первом ящике находится 8 мячей, из которых 5 - белые. Во втором ящике - 12 мячей, из которых 5 белых. Из первого ящика вытаскивают случайным образом два мяча, из второго - 4. Какова вероятность того, что 3 мяча белые?"
      ],
      "metadata": {
        "id": "rncb11w8kzh1"
      }
    },
    {
      "cell_type": "markdown",
      "source": [
        "варианты исходов: a) 2 из 2 белые и 1 из 4 белый, b) 1 из 2х белый и 2 из 4 белые, c)0 из 2х белые и 3 из 4 белые"
      ],
      "metadata": {
        "id": "XJjkuvGClZ9z"
      }
    },
    {
      "cell_type": "code",
      "source": [
        "t1=combinations(8, 2)\n",
        "t2=combinations(12, 4)"
      ],
      "metadata": {
        "id": "1w5s76Qok-Gs"
      },
      "execution_count": null,
      "outputs": []
    },
    {
      "cell_type": "markdown",
      "source": [
        "1 условие"
      ],
      "metadata": {
        "id": "9VF_0-8mlFJE"
      }
    },
    {
      "cell_type": "code",
      "source": [
        "a1=combinations(5, 2)\n",
        "a2=combinations(5, 1)\n",
        "b2=combinations(7, 3)\n",
        "p1=a1/t1\n",
        "p2=(a2*b2)/t2\n",
        "pa=p1*p2\n",
        "print(\"2. 2 из 2 белые и 1 из 4 белый\",pa)"
      ],
      "metadata": {
        "colab": {
          "base_uri": "https://localhost:8080/"
        },
        "id": "FP_YGHFTlGxd",
        "outputId": "b4bde0d0-e860-478e-d18e-85075a06cae0"
      },
      "execution_count": null,
      "outputs": [
        {
          "output_type": "stream",
          "name": "stdout",
          "text": [
            "2. 2 из 2 белые и 1 из 4 белый 0.12626262626262627\n"
          ]
        }
      ]
    },
    {
      "cell_type": "markdown",
      "source": [
        "2 условие"
      ],
      "metadata": {
        "id": "TitD_4lSlJUq"
      }
    },
    {
      "cell_type": "code",
      "source": [
        "a1=combinations(5, 1)\n",
        "b1=combinations(3, 1)\n",
        "a2=combinations(5, 2)\n",
        "b2=combinations(7, 2)\n",
        "p1=(a1*b1)/t1\n",
        "p2=(a2*b2)/t2\n",
        "pb=p1*p2\n",
        "print(\"2. 1 из 2х белый и 2 из 4 белые\",pb)\n"
      ],
      "metadata": {
        "colab": {
          "base_uri": "https://localhost:8080/"
        },
        "id": "TK8IVpjalKmH",
        "outputId": "4facd3e6-66cf-4fc6-ebad-fcea6d1b5ddd"
      },
      "execution_count": null,
      "outputs": [
        {
          "output_type": "stream",
          "name": "stdout",
          "text": [
            "2. 1 из 2х белый и 2 из 4 белые 0.22727272727272727\n"
          ]
        }
      ]
    },
    {
      "cell_type": "markdown",
      "source": [
        "3 условие"
      ],
      "metadata": {
        "id": "51j_SSu9lhbQ"
      }
    },
    {
      "cell_type": "code",
      "source": [
        "a1=combinations(3, 2)\n",
        "a2=combinations(5, 3)\n",
        "b2=combinations(7, 1)\n",
        "p1=a1/t1\n",
        "p2=(a2*b2)/t2\n",
        "pc=p1*p2\n",
        "print(\"2. 0 из 2х белые и 3 из 4 белые\",pc)"
      ],
      "metadata": {
        "colab": {
          "base_uri": "https://localhost:8080/"
        },
        "id": "PTYiEVR7liiL",
        "outputId": "a181faaa-88df-41c7-8ed5-c3f2a84cc754"
      },
      "execution_count": null,
      "outputs": [
        {
          "output_type": "stream",
          "name": "stdout",
          "text": [
            "2. 0 из 2х белые и 3 из 4 белые 0.01515151515151515\n"
          ]
        }
      ]
    },
    {
      "cell_type": "code",
      "source": [
        "p=pa+pb+pc\n",
        "print(\"2.вероятность того, что 3 мяча белые\",p)"
      ],
      "metadata": {
        "colab": {
          "base_uri": "https://localhost:8080/"
        },
        "id": "HuDg7FDjllPs",
        "outputId": "241062d8-2346-481c-a1a2-262db5500c62"
      },
      "execution_count": null,
      "outputs": [
        {
          "output_type": "stream",
          "name": "stdout",
          "text": [
            "2.вероятность того, что 3 мяча белые 0.3686868686868687\n"
          ]
        }
      ]
    },
    {
      "cell_type": "markdown",
      "source": [
        "**Задача 3**"
      ],
      "metadata": {
        "id": "HA4ZYyCzlw1D"
      }
    },
    {
      "cell_type": "markdown",
      "source": [
        "В университет на факультеты A и B поступило равное количество студентов, а на факультет C студентов поступило столько же, сколько на A и B вместе. Вероятность того, что студент факультета A сдаст первую сессию, равна 0.8. Для студента факультета B эта вероятность равна 0.7, а для студента факультета C - 0.9. Студент сдал первую сессию. Какова вероятность, что он учится: a). на факультете A б). на факультете B в). на факультете C?"
      ],
      "metadata": {
        "id": "IO3uRAPalznZ"
      }
    },
    {
      "cell_type": "markdown",
      "source": [
        "вероятность того что случайный студент из факультета A\n",
        "qa=0.25"
      ],
      "metadata": {
        "id": "gqR7B9yHl_wi"
      }
    },
    {
      "cell_type": "code",
      "source": [
        "qa=0.25"
      ],
      "metadata": {
        "id": "iqlKVMfGmg-m"
      },
      "execution_count": null,
      "outputs": []
    },
    {
      "cell_type": "markdown",
      "source": [
        "вероятность того что случайный студент из факультета B qb=0.25"
      ],
      "metadata": {
        "id": "LDZZbtypmGro"
      }
    },
    {
      "cell_type": "code",
      "source": [
        "qb=0.25"
      ],
      "metadata": {
        "id": "zwivwBzNmjHM"
      },
      "execution_count": null,
      "outputs": []
    },
    {
      "cell_type": "markdown",
      "source": [
        "вероятность того что случайный студент из факультета C qc=0.5"
      ],
      "metadata": {
        "id": "9BGQ7e2oisYm"
      }
    },
    {
      "cell_type": "code",
      "source": [
        "qc=0.5"
      ],
      "metadata": {
        "id": "1I92n5s2mkto"
      },
      "execution_count": null,
      "outputs": []
    },
    {
      "cell_type": "code",
      "source": [
        "pa=0.8\n",
        "pb=0.7\n",
        "pc=0.9"
      ],
      "metadata": {
        "id": "gjOWACyHmP3A"
      },
      "execution_count": null,
      "outputs": []
    },
    {
      "cell_type": "markdown",
      "source": [
        "доля сдавших студентов от общего количества поступивших"
      ],
      "metadata": {
        "id": "86NBS8eLmUzn"
      }
    },
    {
      "cell_type": "code",
      "source": [
        "pt=qa*pa+qb*pb+qc*pc\n",
        "print(\"3. доля сдавщих студентов от общего количества поступивших\",pt)\n"
      ],
      "metadata": {
        "colab": {
          "base_uri": "https://localhost:8080/"
        },
        "id": "dBBKfk1zmVhR",
        "outputId": "a5e5fd7f-b827-4e64-c0f0-7c647cafed0d"
      },
      "execution_count": null,
      "outputs": [
        {
          "output_type": "stream",
          "name": "stdout",
          "text": [
            "3. доля сдавщих студентов от общего количества поступивших 0.825\n"
          ]
        }
      ]
    },
    {
      "cell_type": "markdown",
      "source": [
        "a)"
      ],
      "metadata": {
        "id": "Y6yCmitomqZU"
      }
    },
    {
      "cell_type": "code",
      "source": [
        "p=qa*pa/pt\n",
        "print(\"3.a из факультета A\",p)\n"
      ],
      "metadata": {
        "colab": {
          "base_uri": "https://localhost:8080/"
        },
        "id": "sEski8cxmroR",
        "outputId": "e6af45b6-3169-4713-9839-57a8e52d357c"
      },
      "execution_count": null,
      "outputs": [
        {
          "output_type": "stream",
          "name": "stdout",
          "text": [
            "3.a из факультета A 0.24242424242424246\n"
          ]
        }
      ]
    },
    {
      "cell_type": "code",
      "source": [
        "p=qb*pb/pt\n",
        "print(\"3.b из факультета B\",p)"
      ],
      "metadata": {
        "colab": {
          "base_uri": "https://localhost:8080/"
        },
        "id": "Mdc5rgujmv7D",
        "outputId": "d09ac7f3-8b14-486b-a125-c49f4d57ecc6"
      },
      "execution_count": null,
      "outputs": [
        {
          "output_type": "stream",
          "name": "stdout",
          "text": [
            "3.b из факультета B 0.21212121212121213\n"
          ]
        }
      ]
    },
    {
      "cell_type": "code",
      "source": [
        "p=qc*pc/pt\n",
        "print(\"3.c из факультета C\",p)"
      ],
      "metadata": {
        "colab": {
          "base_uri": "https://localhost:8080/"
        },
        "id": "FKPv-V-om0GK",
        "outputId": "a71bc601-7e60-44c0-a989-fc45be09f712"
      },
      "execution_count": null,
      "outputs": [
        {
          "output_type": "stream",
          "name": "stdout",
          "text": [
            "3.c из факультета C 0.5454545454545455\n"
          ]
        }
      ]
    },
    {
      "cell_type": "markdown",
      "source": [
        "**Задача 4**"
      ],
      "metadata": {
        "id": "dAhVXRtjmu4s"
      }
    },
    {
      "cell_type": "markdown",
      "source": [
        "Устройство состоит из трех деталей. Для первой детали вероятность выйти из строя в первый месяц равна 0.1, для второй - 0.2, для третьей - 0.25. Какова вероятность того, что в первый месяц выйдут из строя: а). все детали б). только две детали в). хотя бы одна деталь г). от одной до двух деталей?"
      ],
      "metadata": {
        "id": "WzCLNzZGm9wL"
      }
    },
    {
      "cell_type": "code",
      "source": [
        "p1=0.1\n",
        "p2=0.2\n",
        "p3=0.25\n",
        "q1=1-p1\n",
        "q2=1-p2\n",
        "q3=1-p3"
      ],
      "metadata": {
        "id": "tuY01MZynBnW"
      },
      "execution_count": null,
      "outputs": []
    },
    {
      "cell_type": "markdown",
      "source": [
        "a)"
      ],
      "metadata": {
        "id": "5837n08AnFyL"
      }
    },
    {
      "cell_type": "code",
      "source": [
        "p=p1*p2*p3\n",
        "print(\"4.а Вероятность выхода из строя всех деталей\",p)"
      ],
      "metadata": {
        "colab": {
          "base_uri": "https://localhost:8080/"
        },
        "id": "wqxR28YpnHBe",
        "outputId": "a2148c6f-a684-4b2e-89bc-cd2a5b786f09"
      },
      "execution_count": null,
      "outputs": [
        {
          "output_type": "stream",
          "name": "stdout",
          "text": [
            "4.а Вероятность выхода из строя всех деталей 0.005000000000000001\n"
          ]
        }
      ]
    },
    {
      "cell_type": "markdown",
      "source": [
        "b)"
      ],
      "metadata": {
        "id": "2-8prnvunNiR"
      }
    },
    {
      "cell_type": "code",
      "source": [
        "p12=p1*p2*q3\n",
        "p13=p1*q2*p3\n",
        "p23=q1*p2*p3\n",
        "pt2=p12+p13+p23\n",
        "print(\"4.б Вероятность выхода из строя 2х деталей\",pt2)"
      ],
      "metadata": {
        "colab": {
          "base_uri": "https://localhost:8080/"
        },
        "id": "c0j3pCd9nO1R",
        "outputId": "55e1c25e-8030-43fa-d246-84d56911e734"
      },
      "execution_count": null,
      "outputs": [
        {
          "output_type": "stream",
          "name": "stdout",
          "text": [
            "4.б Вероятность выхода из строя 2х деталей 0.08000000000000002\n"
          ]
        }
      ]
    },
    {
      "cell_type": "markdown",
      "source": [
        "c) ищем вероятность что не выйдет ни одна деталь"
      ],
      "metadata": {
        "id": "pPx79fEpnQ6B"
      }
    },
    {
      "cell_type": "code",
      "source": [
        "pn=q1*q2*q3\n",
        "p=1-pn\n",
        "print(\"4.в Вероятность выхода хотябы 1й детали\",p)\n"
      ],
      "metadata": {
        "colab": {
          "base_uri": "https://localhost:8080/"
        },
        "id": "ErtedqP4nT1l",
        "outputId": "64bfef14-573c-4b76-c29c-54f7c96c8a8b"
      },
      "execution_count": null,
      "outputs": [
        {
          "output_type": "stream",
          "name": "stdout",
          "text": [
            "4.в Вероятность выхода хотябы 1й детали 0.45999999999999996\n"
          ]
        }
      ]
    },
    {
      "cell_type": "markdown",
      "source": [
        "d)"
      ],
      "metadata": {
        "id": "BYAoxm2lnd6U"
      }
    },
    {
      "cell_type": "code",
      "source": [
        "p1=p1*q2*q3\n",
        "p2=q1*p2*q3\n",
        "p3=q1*q2*p3\n",
        "p=p1+p2+p3+pt2\n",
        "print(\"4.г Вероятность выхода из строя 1-2х деталей\",p)\n"
      ],
      "metadata": {
        "colab": {
          "base_uri": "https://localhost:8080/"
        },
        "id": "uty_RdC-nfAR",
        "outputId": "cc97013e-8950-4137-a945-a652ace4c989"
      },
      "execution_count": null,
      "outputs": [
        {
          "output_type": "stream",
          "name": "stdout",
          "text": [
            "4.г Вероятность выхода из строя 1-2х деталей 0.455\n"
          ]
        }
      ]
    }
  ]
}