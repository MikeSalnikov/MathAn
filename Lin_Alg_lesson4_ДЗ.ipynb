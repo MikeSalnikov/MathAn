{
  "nbformat": 4,
  "nbformat_minor": 0,
  "metadata": {
    "colab": {
      "provenance": [],
      "collapsed_sections": [],
      "authorship_tag": "ABX9TyOAa7X+JmKSiVwPhiPTMo6x",
      "include_colab_link": true
    },
    "kernelspec": {
      "name": "python3",
      "display_name": "Python 3"
    },
    "language_info": {
      "name": "python"
    }
  },
  "cells": [
    {
      "cell_type": "markdown",
      "metadata": {
        "id": "view-in-github",
        "colab_type": "text"
      },
      "source": [
        "<a href=\"https://colab.research.google.com/github/MikeSalnikov/MathAn/blob/main/Lin_Alg_lesson4_%D0%94%D0%97.ipynb\" target=\"_parent\"><img src=\"https://colab.research.google.com/assets/colab-badge.svg\" alt=\"Open In Colab\"/></a>"
      ]
    },
    {
      "cell_type": "code",
      "execution_count": 2,
      "metadata": {
        "id": "CHJUqijTNXft"
      },
      "outputs": [],
      "source": [
        "import numpy as np\n",
        "from numpy.linalg import norm"
      ]
    },
    {
      "cell_type": "markdown",
      "source": [
        "__1.__ Решить систему уравнений методом Гаусса:\n",
        "\n",
        "$$\\begin{cases}\n",
        "x_{1}+x_{2}-x_{3}-2x_{4}=0, \\\\\n",
        "2x_{1}+x_{2}-x_{3}+x_{4}=-2, \\\\\n",
        "x_{1}+x_{2}-3x_{3}+x_{4}=4.\n",
        "\\end{cases}$$"
      ],
      "metadata": {
        "id": "qisM0afvwaNq"
      }
    },
    {
      "cell_type": "code",
      "source": [],
      "metadata": {
        "id": "UYafeHTT1jd4"
      },
      "execution_count": null,
      "outputs": []
    },
    {
      "cell_type": "markdown",
      "source": [
        "Запишем расширенную матрицу системы:"
      ],
      "metadata": {
        "id": "4XA6U9ugwbum"
      }
    },
    {
      "cell_type": "markdown",
      "source": [
        "$$\\begin{pmatrix}\n",
        "\\left.\\begin{matrix}\n",
        "1 & 1 & -1 & 2\\\\ \n",
        "2 & 1 & -1 & 1\\\\ \n",
        "1 & 1 & -3 & 1\\\\ \n",
        "\\end{matrix}\\right|\n",
        "\\begin{matrix}\n",
        "0\\\\ \n",
        "-2\\\\\n",
        "4\\\\\n",
        "\\end{matrix}\n",
        "\\end{pmatrix}.$$"
      ],
      "metadata": {
        "id": "ZKZiDAGgwpw5"
      }
    },
    {
      "cell_type": "markdown",
      "source": [
        "Умножим на 2 йю строк и вычтем её из второй"
      ],
      "metadata": {
        "id": "MjG7nYBv0nG1"
      }
    },
    {
      "cell_type": "markdown",
      "source": [
        "$$\\begin{pmatrix}\n",
        "\\left.\\begin{matrix}\n",
        "1 & 1 & -1 & -2\\\\ \n",
        "0 & -1 & 1 & -3\\\\ \n",
        "1 & 1 & -3 & 1\\\\ \n",
        "\\end{matrix}\\right|\n",
        "\\begin{matrix}\n",
        "0\\\\ \n",
        "-2\\\\\n",
        "4\\\\\n",
        "\\end{matrix}\n",
        "\\end{pmatrix}.$$"
      ],
      "metadata": {
        "id": "RE9KvIZI0o-S"
      }
    },
    {
      "cell_type": "markdown",
      "source": [
        "вычтем из 3 1"
      ],
      "metadata": {
        "id": "JRc0lOXU10Jo"
      }
    },
    {
      "cell_type": "markdown",
      "source": [
        "$$\\begin{pmatrix}\n",
        "\\left.\\begin{matrix}\n",
        "1 & 1 & -1 & -2\\\\ \n",
        "0 & -1 & 1 & -3\\\\ \n",
        "0 & 0 & -2 & 3\\\\ \n",
        "\\end{matrix}\\right|\n",
        "\\begin{matrix}\n",
        "0\\\\ \n",
        "-2\\\\\n",
        "4\\\\\n",
        "\\end{matrix}\n",
        "\\end{pmatrix}.$$"
      ],
      "metadata": {
        "id": "gX3NtwVM1-kM"
      }
    },
    {
      "cell_type": "markdown",
      "source": [
        "Тогда получаем -2x3+3x4=4, система имеет множество решений. x4=c x3=-(4-3c)/2 x2=2-(4-3c)/2-3c x1=-(2-(4-3c)/2-3c)-(4-3c)/2+2c"
      ],
      "metadata": {
        "id": "jvY4LBOl2sFS"
      }
    },
    {
      "cell_type": "markdown",
      "source": [
        "2. Проверить на совместность и выяснить, сколько решений будет иметь система линейных уравнений:"
      ],
      "metadata": {
        "id": "pv5FEtPV3LIs"
      }
    },
    {
      "cell_type": "markdown",
      "source": [
        "__2.__ Проверить на совместность и выяснить, сколько решений будет иметь система линейных уравнений:\n",
        "\n",
        "   а) $\\begin{cases}\n",
        "3x_{1}-x_{2}+x_{3}=4, \\\\\n",
        "2x_{1}-5x_{2}-3x_{3}=-17, \\\\\n",
        "x_{1}+x_{2}-x_{3}=0;\n",
        "\\end{cases}$"
      ],
      "metadata": {
        "id": "DDvktF303MYl"
      }
    },
    {
      "cell_type": "markdown",
      "source": [
        "Найдём определители"
      ],
      "metadata": {
        "id": "HBDaCKWA3WqT"
      }
    },
    {
      "cell_type": "code",
      "source": [
        "a = np.array([[3, -1, 1], [2, -5, -3], [1, 1, -1]])\n",
        "a1 = np.array([[4, -1, 1], [-17, -5, -3], [0, 1, -1]])\n",
        "a2 = np.array([[3, 4, 1], [2, -17, -3], [1, 0, -1]])\n",
        "a3 = np.array([[3, -1, 4], [2, -5, -17], [1, 1, 0]])\n",
        "det_a=np.linalg.det(a)\n",
        "det_a1=np.linalg.det(a1)\n",
        "det_a2=np.linalg.det(a2)\n",
        "det_a3=np.linalg.det(a3)\n",
        "print('определители',det_a,det_a1,det_a2,det_a3)\n",
        "x1=det_a1/det_a\n",
        "x2=det_a2/det_a\n",
        "x3=det_a3/det_a\n",
        "print('решение',x1,x2,x3)"
      ],
      "metadata": {
        "colab": {
          "base_uri": "https://localhost:8080/"
        },
        "id": "b0ZO3vkS3XYR",
        "outputId": "fe27bc52-9f0c-419c-9aea-9f35b2b8e74f"
      },
      "execution_count": 3,
      "outputs": [
        {
          "output_type": "stream",
          "name": "stdout",
          "text": [
            "определители 32.0 32.000000000000014 64.00000000000003 95.99999999999999\n",
            "решение 1.0000000000000004 2.000000000000001 2.9999999999999996\n"
          ]
        }
      ]
    },
    {
      "cell_type": "markdown",
      "source": [
        "значит система совместна и имеет одно решение. вектор (1,2,3)"
      ],
      "metadata": {
        "id": "oQDLxbD83g5-"
      }
    },
    {
      "cell_type": "markdown",
      "source": [
        "   б) $\\begin{cases}\n",
        "2x_{1}-4x_{2}+6x_{3}=1, \\\\\n",
        "x_{1}-2x_{2}+3x_{3}=-2, \\\\\n",
        "3x_{1}-6x_{2}+9x_{3}=5;\n",
        "\\end{cases}$\n",
        "    "
      ],
      "metadata": {
        "id": "eNdt5dMs3hrw"
      }
    },
    {
      "cell_type": "markdown",
      "source": [
        "методом гаусса видно, что если из 1 уравнения вычесть 2 уравнение умноженное на 2, то получим 0=1 , а значит система решений не имеет и не совместна"
      ],
      "metadata": {
        "id": "NQxtdyKe3pUI"
      }
    },
    {
      "cell_type": "markdown",
      "source": [
        "    \n",
        "   в) $\\begin{cases}\n",
        "x_{1}+2x_{2}+5x_{3}=4, \\\\\n",
        "3x_{1}+x_{2}-8x_{3}=-2. \n",
        "\\end{cases}$\n"
      ],
      "metadata": {
        "id": "vggHPDk63x_H"
      }
    },
    {
      "cell_type": "markdown",
      "source": [
        "методом гаусса обнулить 1 или 2 строку не получится, т.к. коэффициенты непропорциональны, также очевидно что уравнений меньше чем переменных, а занчит система имеет множество решений и совместна"
      ],
      "metadata": {
        "id": "nvVWLMz43y4v"
      }
    },
    {
      "cell_type": "markdown",
      "source": [
        "\n",
        "__3.__ Проверить на совместность и выяснить, сколько решений будет иметь система линейных уравнений, заданная расширенной матрицей\n",
        "\n",
        "$$\\tilde{A}=\\begin{pmatrix}\n",
        "\\left.\\begin{matrix}\n",
        "1 & 3 & -2 & 4\\\\ \n",
        "0 & 5 & 0 & 1\\\\ \n",
        "0 & 0 & 3 & 0\\\\ \n",
        "0 & 0 & 0 & 2\n",
        "\\end{matrix}\\right|\n",
        "\\begin{matrix}\n",
        "3\\\\ \n",
        "2\\\\\n",
        "4\\\\\n",
        "1\n",
        "\\end{matrix}\n",
        "\\end{pmatrix}.$$"
      ],
      "metadata": {
        "id": "AFi3HmBj32hb"
      }
    },
    {
      "cell_type": "markdown",
      "source": [
        "коэффициенты непроворциональны, количество уравнений и переменных равно. система совместна и имеет одно решение x4=1/2, x3=4/3, x2=(2-1/2)/5, x1=3-(2-1/2)/5+4/3-1/2"
      ],
      "metadata": {
        "id": "a6rMTTaj387v"
      }
    },
    {
      "cell_type": "code",
      "source": [
        "x4=1/2\n",
        "x3=4/3, \n",
        "x2=(2-1/2)/5 \n",
        "x1=3-(2-1/2)/5+4/3-1/2\n",
        "print(x1,x2,x3,x4)"
      ],
      "metadata": {
        "colab": {
          "base_uri": "https://localhost:8080/"
        },
        "id": "jemzbSNq4Bhx",
        "outputId": "8727cee3-9dc5-42f4-f333-0f794a3722f2"
      },
      "execution_count": 4,
      "outputs": [
        {
          "output_type": "stream",
          "name": "stdout",
          "text": [
            "3.533333333333333 0.3 (1.3333333333333333,) 0.5\n"
          ]
        }
      ]
    },
    {
      "cell_type": "markdown",
      "source": [
        "__4.__ Дана система линейных уравнений, заданная расширенной матрицей\n",
        "\n",
        "$$\\tilde{A}=\\begin{pmatrix}\n",
        "\\left.\\begin{matrix}\n",
        "1 & 2 & 3\\\\ \n",
        "4 & 5 & 6\\\\ \n",
        "7 & 8 & 9\n",
        "\\end{matrix}\\right|\n",
        "\\begin{matrix}\n",
        "a\\\\ \n",
        "b\\\\\n",
        "c\n",
        "\\end{matrix}\n",
        "\\end{pmatrix}.$$\n",
        "\n",
        "Найти соотношение между параметрами $a$, $b$ и $c$, при которых система является несовместной."
      ],
      "metadata": {
        "id": "nvvKU8Fp4L75"
      }
    },
    {
      "cell_type": "markdown",
      "source": [
        "Запишем систему в виде расширенной матрицы.<br>\n",
        "\n",
        "### $$\\begin{pmatrix}\n",
        "\\left.\\begin{matrix}\n",
        "1 & 2 & 3 \\\\ \n",
        "4 & 5 & 6 \\\\ \n",
        "7 & 8 & 9\n",
        "\\end{matrix}\\right|\n",
        "\\begin{matrix}\n",
        "a\\\\ \n",
        "b\\\\\n",
        "c\n",
        "\\end{matrix}\n",
        "\\end{pmatrix}.$$\n",
        "\n",
        "1 строку умножим на 2 и вычтем и 2 строки.<br>\n",
        "1 строку умножим на 3 и вычтем и 3 строки.<br>\n",
        "\n",
        "### $$\\begin{pmatrix}\n",
        "\\left.\\begin{matrix}\n",
        "1 & 2 & 3 \\\\ \n",
        "2 & 1 & 0 \\\\ \n",
        "4 & 2 & 0\n",
        "\\end{matrix}\\right|\n",
        "\\begin{matrix}\n",
        "a\\\\ \n",
        "b - 2a\\\\\n",
        "c - 3a\n",
        "\\end{matrix}\n",
        "\\end{pmatrix}.$$\n",
        "\n",
        "2 строку умножим на 2 и вычтем из 3 строки. <br>\n",
        "\n",
        "### $$\\begin{pmatrix}\n",
        "\\left.\\begin{matrix}\n",
        "1 & 2 & 3 \\\\ \n",
        "2 & 1 & 0 \\\\ \n",
        "0 & 0 & 0\n",
        "\\end{matrix}\\right|\n",
        "\\begin{matrix}\n",
        "a\\\\ \n",
        "b - 2a\\\\\n",
        "c + a - 2b\n",
        "\\end{matrix}\n",
        "\\end{pmatrix}.$$\n",
        "\n",
        "Если $c + a - 2b \\neq 0$, то система несовместна.<br>"
      ],
      "metadata": {
        "id": "nX941kR_4NVw"
      }
    }
  ]
}