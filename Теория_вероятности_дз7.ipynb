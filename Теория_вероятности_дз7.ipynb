{
  "nbformat": 4,
  "nbformat_minor": 0,
  "metadata": {
    "colab": {
      "name": "Теория вероятности дз7.ipynb",
      "provenance": [],
      "collapsed_sections": [],
      "authorship_tag": "ABX9TyP7gljZJyV0PuTzPJ50p4tL",
      "include_colab_link": true
    },
    "kernelspec": {
      "name": "python3",
      "display_name": "Python 3"
    },
    "language_info": {
      "name": "python"
    }
  },
  "cells": [
    {
      "cell_type": "markdown",
      "metadata": {
        "id": "view-in-github",
        "colab_type": "text"
      },
      "source": [
        "<a href=\"https://colab.research.google.com/github/MikeSalnikov/MathAn/blob/main/%D0%A2%D0%B5%D0%BE%D1%80%D0%B8%D1%8F_%D0%B2%D0%B5%D1%80%D0%BE%D1%8F%D1%82%D0%BD%D0%BE%D1%81%D1%82%D0%B8_%D0%B4%D0%B77.ipynb\" target=\"_parent\"><img src=\"https://colab.research.google.com/assets/colab-badge.svg\" alt=\"Open In Colab\"/></a>"
      ]
    },
    {
      "cell_type": "markdown",
      "source": [
        "**Задача 1**"
      ],
      "metadata": {
        "id": "FliyVwQ2gIid"
      }
    },
    {
      "cell_type": "markdown",
      "source": [
        "Даны значения величины заработной платы заемщиков банка (zp) и значения их поведенческого кредитного скоринга (ks): zp = [35, 45, 190, 200, 40, 70, 54, 150, 120, 110], ks = [401, 574, 874, 919, 459, 739, 653, 902, 746, 832]. Используя математические операции, посчитать коэффициенты линейной регрессии, приняв за X заработную плату (то есть, zp - признак), а за y - значения скорингового балла (то есть, ks - целевая переменная). Произвести расчет как с использованием intercept, так и без."
      ],
      "metadata": {
        "id": "EGMqOWixgLMQ"
      }
    },
    {
      "cell_type": "code",
      "execution_count": 1,
      "metadata": {
        "id": "p77rIhiPgC4T"
      },
      "outputs": [],
      "source": [
        "import numpy as np\n",
        "zp = [35, 45, 190, 200, 40, 70, 54, 150, 120, 110]\n",
        "ks = [401, 574, 874, 919, 459, 739, 653, 902, 746, 832]\n",
        "X = np.array(zp)\n",
        "y = np.array(ks)"
      ]
    },
    {
      "cell_type": "code",
      "source": [
        "b = (np.mean(X*y)-np.mean(X)*np.mean(y))/(np.mean(X**2)-np.mean(X)**2)\n",
        "a = np.mean(y)-b*np.mean(X)\n",
        "print(a)\n",
        "print(b)"
      ],
      "metadata": {
        "colab": {
          "base_uri": "https://localhost:8080/"
        },
        "id": "3hVubTZAgXAi",
        "outputId": "2f048eb8-b080-4fbe-fb38-bed007dc86ae"
      },
      "execution_count": 2,
      "outputs": [
        {
          "output_type": "stream",
          "name": "stdout",
          "text": [
            "444.1773573243596\n",
            "2.620538882402765\n"
          ]
        }
      ]
    },
    {
      "cell_type": "code",
      "source": [
        "#Матричный метод\n",
        "X = np.array(zp)\n",
        "y = np.array(ks)\n",
        "l = len(zp)\n",
        "X = np.hstack([np.ones((l,1)), X.reshape(l,1)])\n",
        "y = np.hstack([np.ones((l,1)), y.reshape(l,1)])\n",
        "\n",
        "B = np.dot(np.linalg.inv(np.dot(X.T,X)),X.T@y)\n",
        "print(B[0,1])\n",
        "print(B[1,1])"
      ],
      "metadata": {
        "colab": {
          "base_uri": "https://localhost:8080/"
        },
        "id": "xOgsAV4Xgg_3",
        "outputId": "65cb329b-67ae-4b4b-beee-9a81ed02bd1c"
      },
      "execution_count": 3,
      "outputs": [
        {
          "output_type": "stream",
          "name": "stdout",
          "text": [
            "444.17735732435966\n",
            "2.6205388824027662\n"
          ]
        }
      ]
    },
    {
      "cell_type": "markdown",
      "source": [
        "2) Посчитать коэффициент линейной регрессии при заработной плате (zp), используя градиентный спуск (без intercept)."
      ],
      "metadata": {
        "id": "90ssklU4g41x"
      }
    },
    {
      "cell_type": "code",
      "source": [
        "X = np.array(zp)\n",
        "y = np.array(ks)\n",
        "B1 = 0.1\n",
        "alpha = 1e-6\n",
        "\n",
        "def mse(B1,y,X):\n",
        "    return np.sum((B1*X-y)**2)/len(X)\n",
        "\n",
        "for i in range(10000):\n",
        "    B1 -= (2/len(X)) *alpha *np.sum((B1*X-y)*X)\n",
        "    if i % 1000 == 0:\n",
        "        print(f'B1={B1}, mse={mse(B1,y,X)}')"
      ],
      "metadata": {
        "colab": {
          "base_uri": "https://localhost:8080/"
        },
        "id": "KdoAlvqBgip5",
        "outputId": "0da59e27-ff12-435f-893d-44a0d6f07c62"
      },
      "execution_count": 4,
      "outputs": [
        {
          "output_type": "stream",
          "name": "stdout",
          "text": [
            "B1=0.25952808, mse=493237.7212546963\n",
            "B1=5.8898204201285544, mse=56516.85841571941\n",
            "B1=5.889820420132673, mse=56516.85841571943\n",
            "B1=5.889820420132673, mse=56516.85841571943\n",
            "B1=5.889820420132673, mse=56516.85841571943\n",
            "B1=5.889820420132673, mse=56516.85841571943\n",
            "B1=5.889820420132673, mse=56516.85841571943\n",
            "B1=5.889820420132673, mse=56516.85841571943\n",
            "B1=5.889820420132673, mse=56516.85841571943\n",
            "B1=5.889820420132673, mse=56516.85841571943\n"
          ]
        }
      ]
    },
    {
      "cell_type": "markdown",
      "source": [
        "3) Произвести вычисления как в пункте 2, но с вычислением intercept. Учесть, что изменение коэффициентов должно производиться на каждом шаге одновременно (то есть изменение одного коэффициента не должно влиять на изменение другого во время одной итерации)"
      ],
      "metadata": {
        "id": "6ox57Su4gGIc"
      }
    },
    {
      "cell_type": "code",
      "source": [
        "X = np.array(zp)\n",
        "y = np.array(ks)\n",
        "B0 = 0.1\n",
        "B1 = 0.1\n",
        "alpha = 5e-5\n",
        "\n",
        "def mse(B0,B1,y,X):\n",
        "    return np.sum((B0+B1*X-y)**2)/len(X)\n",
        "\n",
        "coef = (2/len(X)) *alpha\n",
        "for i in range(500000):\n",
        "    tmp = (B0 + B1*X) -y\n",
        "    B0 -=  coef*np.sum(tmp)\n",
        "    B1 -=  coef*np.sum(tmp*X)\n",
        "    if (i+1) % 100000 == 0:\n",
        "        print(f'B0={B0},\\tB1={B1}, \\tmse={mse(B0,B1,y,X)}')"
      ],
      "metadata": {
        "colab": {
          "base_uri": "https://localhost:8080/"
        },
        "id": "3UdbjOK0iTMF",
        "outputId": "fcbb9461-d431-491c-9911-2c90ae78ca08"
      },
      "execution_count": 5,
      "outputs": [
        {
          "output_type": "stream",
          "name": "stdout",
          "text": [
            "B0=409.0366936919594,\tB1=2.8791897033170937, \tmse=6783.6564353341655\n",
            "B0=441.3963447045292,\tB1=2.6410083648410256, \tmse=6472.376053505286\n",
            "B0=443.9572695288454,\tB1=2.6221588258841537, \tmse=6470.426488359354\n",
            "B0=444.1599396983524,\tB1=2.6206670838309534, \tmse=6470.414278131919\n",
            "B0=444.17597890310327,\tB1=2.6205490281926473, \tmse=6470.414201658629\n"
          ]
        }
      ]
    }
  ]
}