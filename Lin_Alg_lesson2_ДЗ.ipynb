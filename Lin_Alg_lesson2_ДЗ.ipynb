{
  "nbformat": 4,
  "nbformat_minor": 0,
  "metadata": {
    "colab": {
      "name": "Lin_Alg_lesson2_ДЗ.ipynb",
      "provenance": [],
      "collapsed_sections": [],
      "authorship_tag": "ABX9TyOdKISSI7EGCBS08QZeZb7I",
      "include_colab_link": true
    },
    "kernelspec": {
      "name": "python3",
      "display_name": "Python 3"
    },
    "language_info": {
      "name": "python"
    }
  },
  "cells": [
    {
      "cell_type": "markdown",
      "metadata": {
        "id": "view-in-github",
        "colab_type": "text"
      },
      "source": [
        "<a href=\"https://colab.research.google.com/github/MikeSalnikov/MathAn/blob/main/Lin_Alg_lesson2_%D0%94%D0%97.ipynb\" target=\"_parent\"><img src=\"https://colab.research.google.com/assets/colab-badge.svg\" alt=\"Open In Colab\"/></a>"
      ]
    },
    {
      "cell_type": "code",
      "source": [
        "import numpy as np\n",
        "from numpy.linalg import norm"
      ],
      "metadata": {
        "id": "YmJxfwFnucEQ"
      },
      "execution_count": 7,
      "outputs": []
    },
    {
      "cell_type": "markdown",
      "source": [
        "__1.__ Установить, какие произведения матриц $AB$ и $BA$ определены, и найти размерности полученных матриц:\n",
        "\n",
        "   а) $A$ — матрица $4\\times 2$, $B$ — матрица $4\\times 2$;\n",
        "    \n",
        "   б) $A$ — матрица $2\\times 5$, $B$ — матрица $5\\times 3$;\n",
        "    \n",
        "   в) $A$ — матрица $8\\times 3$, $B$ — матрица $3\\times 8$;\n",
        "    \n",
        "   г) $A$ — квадратная матрица $4\\times 4$, $B$ — квадратная матрица $4\\times 4$."
      ],
      "metadata": {
        "id": "mFBjgCRktsPz"
      }
    },
    {
      "cell_type": "markdown",
      "source": [
        "необходимо, чтобы число столбцов матрицы **A** было равно числу строк матрицы **B**\n",
        "\n",
        "*Ответ:* Соответственно a) AB и BA не определены б) AB - размерность 2x3, BA не определена в) AB размерность 8x8, BA размерность 3x3 г) AB и BA размерность 4x4\n",
        "\n",
        "а) A — матрица 4×2 , B — матрица 4×2 ;"
      ],
      "metadata": {
        "id": "iO1eIPk2tUu5"
      }
    },
    {
      "cell_type": "code",
      "source": [
        "A = np.ones((4,2))\n",
        "B = np.ones((4,2))\n",
        "print(f'Матрица A\\n{A}')\n",
        "print(f'Матрица B\\n{B}')\n",
        "print(f'Матрица AB\\n{np.dot(A, B)}')\n",
        "print(f'Матрица BA\\n{np.dot(B, A)}')"
      ],
      "metadata": {
        "colab": {
          "base_uri": "https://localhost:8080/",
          "height": 426
        },
        "id": "824zzv1puUXy",
        "outputId": "c0af3ca1-ba0b-43d2-94b8-3b6753031ce6"
      },
      "execution_count": 6,
      "outputs": [
        {
          "output_type": "stream",
          "name": "stdout",
          "text": [
            "Матрица A\n",
            "[[1. 1.]\n",
            " [1. 1.]\n",
            " [1. 1.]\n",
            " [1. 1.]]\n",
            "Матрица B\n",
            "[[1. 1.]\n",
            " [1. 1.]\n",
            " [1. 1.]\n",
            " [1. 1.]]\n"
          ]
        },
        {
          "output_type": "error",
          "ename": "ValueError",
          "evalue": "ignored",
          "traceback": [
            "\u001b[0;31m---------------------------------------------------------------------------\u001b[0m",
            "\u001b[0;31mValueError\u001b[0m                                Traceback (most recent call last)",
            "\u001b[0;32m<ipython-input-6-2a91c352401a>\u001b[0m in \u001b[0;36m<module>\u001b[0;34m\u001b[0m\n\u001b[1;32m      3\u001b[0m \u001b[0mprint\u001b[0m\u001b[0;34m(\u001b[0m\u001b[0;34mf'Матрица A\\n{A}'\u001b[0m\u001b[0;34m)\u001b[0m\u001b[0;34m\u001b[0m\u001b[0;34m\u001b[0m\u001b[0m\n\u001b[1;32m      4\u001b[0m \u001b[0mprint\u001b[0m\u001b[0;34m(\u001b[0m\u001b[0;34mf'Матрица B\\n{B}'\u001b[0m\u001b[0;34m)\u001b[0m\u001b[0;34m\u001b[0m\u001b[0;34m\u001b[0m\u001b[0m\n\u001b[0;32m----> 5\u001b[0;31m \u001b[0mprint\u001b[0m\u001b[0;34m(\u001b[0m\u001b[0;34mf'Матрица AB\\n{np.dot(A, B)}'\u001b[0m\u001b[0;34m)\u001b[0m\u001b[0;34m\u001b[0m\u001b[0;34m\u001b[0m\u001b[0m\n\u001b[0m\u001b[1;32m      6\u001b[0m \u001b[0mprint\u001b[0m\u001b[0;34m(\u001b[0m\u001b[0;34mf'Матрица BA\\n{np.dot(B, A)}'\u001b[0m\u001b[0;34m)\u001b[0m\u001b[0;34m\u001b[0m\u001b[0;34m\u001b[0m\u001b[0m\n",
            "\u001b[0;32m<__array_function__ internals>\u001b[0m in \u001b[0;36mdot\u001b[0;34m(*args, **kwargs)\u001b[0m\n",
            "\u001b[0;31mValueError\u001b[0m: shapes (4,2) and (4,2) not aligned: 2 (dim 1) != 4 (dim 0)"
          ]
        }
      ]
    },
    {
      "cell_type": "markdown",
      "source": [
        "б) A — матрица 2×5 , B — матрица 5×3 ;"
      ],
      "metadata": {
        "id": "kckg4s9euurA"
      }
    },
    {
      "cell_type": "code",
      "source": [
        "A = np.ones((2,5))\n",
        "B = np.ones((5,3))\n",
        "print(f'Матрица A\\n{A}')\n",
        "print(f'Матрица B\\n{B}')\n",
        "print(f'Матрица AB\\n{np.dot(A, B)}')\n",
        "print(f'Матрица BA\\n{np.dot(B, A)}')"
      ],
      "metadata": {
        "colab": {
          "base_uri": "https://localhost:8080/",
          "height": 443
        },
        "id": "mOo8NJTDuvYz",
        "outputId": "15e8669b-2e5b-4581-abca-275bd74e0e3a"
      },
      "execution_count": 9,
      "outputs": [
        {
          "output_type": "stream",
          "name": "stdout",
          "text": [
            "Матрица A\n",
            "[[1. 1. 1. 1. 1.]\n",
            " [1. 1. 1. 1. 1.]]\n",
            "Матрица B\n",
            "[[1. 1. 1.]\n",
            " [1. 1. 1.]\n",
            " [1. 1. 1.]\n",
            " [1. 1. 1.]\n",
            " [1. 1. 1.]]\n",
            "Матрица AB\n",
            "[[5. 5. 5.]\n",
            " [5. 5. 5.]]\n"
          ]
        },
        {
          "output_type": "error",
          "ename": "ValueError",
          "evalue": "ignored",
          "traceback": [
            "\u001b[0;31m---------------------------------------------------------------------------\u001b[0m",
            "\u001b[0;31mValueError\u001b[0m                                Traceback (most recent call last)",
            "\u001b[0;32m<ipython-input-9-7120d97b5d61>\u001b[0m in \u001b[0;36m<module>\u001b[0;34m\u001b[0m\n\u001b[1;32m      4\u001b[0m \u001b[0mprint\u001b[0m\u001b[0;34m(\u001b[0m\u001b[0;34mf'Матрица B\\n{B}'\u001b[0m\u001b[0;34m)\u001b[0m\u001b[0;34m\u001b[0m\u001b[0;34m\u001b[0m\u001b[0m\n\u001b[1;32m      5\u001b[0m \u001b[0mprint\u001b[0m\u001b[0;34m(\u001b[0m\u001b[0;34mf'Матрица AB\\n{np.dot(A, B)}'\u001b[0m\u001b[0;34m)\u001b[0m\u001b[0;34m\u001b[0m\u001b[0;34m\u001b[0m\u001b[0m\n\u001b[0;32m----> 6\u001b[0;31m \u001b[0mprint\u001b[0m\u001b[0;34m(\u001b[0m\u001b[0;34mf'Матрица BA\\n{np.dot(B, A)}'\u001b[0m\u001b[0;34m)\u001b[0m\u001b[0;34m\u001b[0m\u001b[0;34m\u001b[0m\u001b[0m\n\u001b[0m",
            "\u001b[0;32m<__array_function__ internals>\u001b[0m in \u001b[0;36mdot\u001b[0;34m(*args, **kwargs)\u001b[0m\n",
            "\u001b[0;31mValueError\u001b[0m: shapes (5,3) and (2,5) not aligned: 3 (dim 1) != 2 (dim 0)"
          ]
        }
      ]
    },
    {
      "cell_type": "markdown",
      "source": [
        "в) A — матрица 8×3 , B — матрица 3×8 ;"
      ],
      "metadata": {
        "id": "07FNzeZiv4Ig"
      }
    },
    {
      "cell_type": "code",
      "source": [
        "A = np.ones((8,3))\n",
        "B = np.ones((3,8))\n",
        "print(f'Матрица A\\n{A}')\n",
        "print(f'Матрица B\\n{B}')\n",
        "print(f'Матрица AB\\n{np.dot(A, B)}')\n",
        "print(f'Матрица BA\\n{np.dot(B, A)}')"
      ],
      "metadata": {
        "colab": {
          "base_uri": "https://localhost:8080/"
        },
        "id": "BGb7lhx6v7wN",
        "outputId": "85aeccad-5912-4a07-989a-870bd828383f"
      },
      "execution_count": 8,
      "outputs": [
        {
          "output_type": "stream",
          "name": "stdout",
          "text": [
            "Матрица A\n",
            "[[1. 1. 1.]\n",
            " [1. 1. 1.]\n",
            " [1. 1. 1.]\n",
            " [1. 1. 1.]\n",
            " [1. 1. 1.]\n",
            " [1. 1. 1.]\n",
            " [1. 1. 1.]\n",
            " [1. 1. 1.]]\n",
            "Матрица B\n",
            "[[1. 1. 1. 1. 1. 1. 1. 1.]\n",
            " [1. 1. 1. 1. 1. 1. 1. 1.]\n",
            " [1. 1. 1. 1. 1. 1. 1. 1.]]\n",
            "Матрица AB\n",
            "[[3. 3. 3. 3. 3. 3. 3. 3.]\n",
            " [3. 3. 3. 3. 3. 3. 3. 3.]\n",
            " [3. 3. 3. 3. 3. 3. 3. 3.]\n",
            " [3. 3. 3. 3. 3. 3. 3. 3.]\n",
            " [3. 3. 3. 3. 3. 3. 3. 3.]\n",
            " [3. 3. 3. 3. 3. 3. 3. 3.]\n",
            " [3. 3. 3. 3. 3. 3. 3. 3.]\n",
            " [3. 3. 3. 3. 3. 3. 3. 3.]]\n",
            "Матрица BA\n",
            "[[8. 8. 8.]\n",
            " [8. 8. 8.]\n",
            " [8. 8. 8.]]\n"
          ]
        }
      ]
    },
    {
      "cell_type": "markdown",
      "source": [
        "г) A — квадратная матрица 4×4 , B — квадратная матрица 4×4 ."
      ],
      "metadata": {
        "id": "zVBWq16EwLT2"
      }
    },
    {
      "cell_type": "code",
      "source": [
        "A = np.ones((4,4))\n",
        "B = np.ones((4,4))\n",
        "print(f'Матрица A\\n{A}')\n",
        "print(f'Матрица B\\n{B}')\n",
        "print(f'Матрица AB\\n{np.dot(A, B)}')\n",
        "print(f'Матрица BA\\n{np.dot(B, A)}')"
      ],
      "metadata": {
        "colab": {
          "base_uri": "https://localhost:8080/"
        },
        "id": "nl_Zeo-0wMEB",
        "outputId": "48fd5c86-dd72-4231-8bac-791ffb792012"
      },
      "execution_count": 10,
      "outputs": [
        {
          "output_type": "stream",
          "name": "stdout",
          "text": [
            "Матрица A\n",
            "[[1. 1. 1. 1.]\n",
            " [1. 1. 1. 1.]\n",
            " [1. 1. 1. 1.]\n",
            " [1. 1. 1. 1.]]\n",
            "Матрица B\n",
            "[[1. 1. 1. 1.]\n",
            " [1. 1. 1. 1.]\n",
            " [1. 1. 1. 1.]\n",
            " [1. 1. 1. 1.]]\n",
            "Матрица AB\n",
            "[[4. 4. 4. 4.]\n",
            " [4. 4. 4. 4.]\n",
            " [4. 4. 4. 4.]\n",
            " [4. 4. 4. 4.]]\n",
            "Матрица BA\n",
            "[[4. 4. 4. 4.]\n",
            " [4. 4. 4. 4.]\n",
            " [4. 4. 4. 4.]\n",
            " [4. 4. 4. 4.]]\n"
          ]
        }
      ]
    },
    {
      "cell_type": "markdown",
      "source": [
        "__2.__ Найти сумму и произведение матриц $A=\\begin{pmatrix}\n",
        "1 & -2\\\\ \n",
        "3 & 0\n",
        "\\end{pmatrix}$ и $B=\\begin{pmatrix}\n",
        "4 & -1\\\\ \n",
        "0 & 5\n",
        "\\end{pmatrix}.$"
      ],
      "metadata": {
        "id": "vqAxSpZ5wq9f"
      }
    },
    {
      "cell_type": "markdown",
      "source": [
        "A+B="
      ],
      "metadata": {
        "id": "w9WZJMxnw-6m"
      }
    },
    {
      "cell_type": "markdown",
      "source": [
        "$$\\begin{pmatrix}\n",
        "1 & -2\\\\ \n",
        "3 & 0\n",
        "\\end{pmatrix} + \\begin{pmatrix}\n",
        "4 & -1\\\\ \n",
        "0 & 5\n",
        "\\end{pmatrix} = \\begin{pmatrix}\n",
        "1+4 & -2-1\\\\ \n",
        "3+0 & 0+5\n",
        "\\end{pmatrix} .$$\n",
        "\n",
        "= \\begin{pmatrix}\n",
        "5 & -3\\\\ \n",
        "3 & 5\n",
        "\\end{pmatrix}"
      ],
      "metadata": {
        "id": "iddfykfpxFN5"
      }
    },
    {
      "cell_type": "markdown",
      "source": [
        "AxB = \n"
      ],
      "metadata": {
        "id": "xmfj0uZkyJkB"
      }
    },
    {
      "cell_type": "markdown",
      "source": [
        "$$\\begin{pmatrix}\n",
        "a_{11} & a_{12}\\\\ \n",
        "a_{21} & a_{22}\n",
        "\\end{pmatrix} \\begin{pmatrix}\n",
        "b_{11} & b_{12}\\\\ \n",
        "b_{21} & b_{22}\n",
        "\\end{pmatrix}=\\begin{pmatrix}\n",
        "(a_{11}b_{11} + a_{12}b_{21}) & (a_{11}b_{12} + a_{12}b_{22})\\\\ \n",
        "(a_{21}b_{11} + a_{22}b_{21}) & (a_{21}b_{12} + a_{22}b_{22})\n",
        "\\end{pmatrix}.$$"
      ],
      "metadata": {
        "id": "Rfwb9ga0y_r8"
      }
    },
    {
      "cell_type": "markdown",
      "source": [
        "\\begin{pmatrix} 14+0-2 & 1-1+-25\\ 34+00 & 3-1+0*5 \\end{pmatrix}="
      ],
      "metadata": {
        "id": "0K61ZkUa0FUe"
      }
    },
    {
      "cell_type": "markdown",
      "source": [
        "итог = \\begin{pmatrix}\n",
        "4 & -11\\\\ \n",
        "12 & -3\n",
        "\\end{pmatrix}"
      ],
      "metadata": {
        "id": "GXXrPgVf0K7O"
      }
    },
    {
      "cell_type": "code",
      "source": [
        "A = np.array([[1,-2],[3,0]])\n",
        "B = np.array([[4,-1],[0,5]])\n",
        "print(f'Матрица A\\n{A}')\n",
        "print(f'Матрица B\\n{B}')\n",
        "print(f'Матрица A+B\\n{A+B}')\n",
        "print(f'Матрица AxB\\n{np.dot(A, B)}')"
      ],
      "metadata": {
        "colab": {
          "base_uri": "https://localhost:8080/"
        },
        "id": "M5eOaXz90gnL",
        "outputId": "36ab985f-dbed-4232-9c16-e4e6a460dd19"
      },
      "execution_count": 11,
      "outputs": [
        {
          "output_type": "stream",
          "name": "stdout",
          "text": [
            "Матрица A\n",
            "[[ 1 -2]\n",
            " [ 3  0]]\n",
            "Матрица B\n",
            "[[ 4 -1]\n",
            " [ 0  5]]\n",
            "Матрица A+B\n",
            "[[ 5 -3]\n",
            " [ 3  5]]\n",
            "Матрица AxB\n",
            "[[  4 -11]\n",
            " [ 12  -3]]\n"
          ]
        }
      ]
    },
    {
      "cell_type": "markdown",
      "source": [
        "*рисование формул занимает слишком много времени, суть понятна) прошу понять и принять без ручных расчетов*"
      ],
      "metadata": {
        "id": "_Jpbyy9A00Uw"
      }
    },
    {
      "cell_type": "markdown",
      "source": [
        "__3.__ Из закономерностей сложения и умножения матриц на число можно сделать вывод, что матрицы одного размера образуют линейное пространство. Вычислить линейную комбинацию $3A-2B+4C$ для матриц $A=\\begin{pmatrix}\n",
        "1 & 7\\\\ \n",
        "3 & -6\n",
        "\\end{pmatrix}$, $B=\\begin{pmatrix}\n",
        "0 & 5\\\\ \n",
        "2 & -1\n",
        "\\end{pmatrix}$, $C=\\begin{pmatrix}\n",
        "2 & -4\\\\ \n",
        "1 & 1\n",
        "\\end{pmatrix}.$"
      ],
      "metadata": {
        "id": "9NPQSWKv0Q4V"
      }
    },
    {
      "cell_type": "code",
      "source": [
        "A = np.array([[1,7],[3,-6]])\n",
        "B = np.array([[0,5],[2,-1]])\n",
        "C = np.array([[2,-4],[1,1]])\n",
        "print(f'Матрица A\\n{A}')\n",
        "print(f'Матрица B\\n{B}')\n",
        "print(f'Матрица C\\n{B}')\n",
        "print(f'Матрица 3A-2B+4C\\n{3*A+(-2)*B+4*C}')"
      ],
      "metadata": {
        "colab": {
          "base_uri": "https://localhost:8080/"
        },
        "id": "psXczmov0-bx",
        "outputId": "4fde2ff5-6f8e-4c73-dd22-56de0b35af02"
      },
      "execution_count": 12,
      "outputs": [
        {
          "output_type": "stream",
          "name": "stdout",
          "text": [
            "Матрица A\n",
            "[[ 1  7]\n",
            " [ 3 -6]]\n",
            "Матрица B\n",
            "[[ 0  5]\n",
            " [ 2 -1]]\n",
            "Матрица C\n",
            "[[ 0  5]\n",
            " [ 2 -1]]\n",
            "Матрица 3A-2B+4C\n",
            "[[ 11  -5]\n",
            " [  9 -12]]\n"
          ]
        }
      ]
    },
    {
      "cell_type": "markdown",
      "source": [
        "__4.__ Дана матрица $A=\\begin{pmatrix}\n",
        "4 & 1\\\\ \n",
        "5 & -2\\\\ \n",
        "2 & 3\n",
        "\\end{pmatrix}$.\n",
        "Вычислить $AA^{T}$ и $A^{T}A$."
      ],
      "metadata": {
        "id": "bVYvJFiw1FAG"
      }
    },
    {
      "cell_type": "code",
      "source": [
        "A = np.array([[4,1],[5,-2],[2,3]])\n",
        "print(f'Матрица:\\n{A}')\n",
        "print(f'Транспонированная матрица:\\n{A.T}')\n",
        "print(f'матрица A*AT:\\n{np.dot(A,A.T)}')\n",
        "print(f'матрица AT*A:\\n{np.dot(A.T,A)}')"
      ],
      "metadata": {
        "colab": {
          "base_uri": "https://localhost:8080/"
        },
        "id": "iw_yOOK41F9K",
        "outputId": "3585ce41-e7f3-4ca7-8f2a-33c315eba673"
      },
      "execution_count": 13,
      "outputs": [
        {
          "output_type": "stream",
          "name": "stdout",
          "text": [
            "Матрица:\n",
            "[[ 4  1]\n",
            " [ 5 -2]\n",
            " [ 2  3]]\n",
            "Транспонированная матрица:\n",
            "[[ 4  5  2]\n",
            " [ 1 -2  3]]\n",
            "матрица A*AT:\n",
            "[[17 18 11]\n",
            " [18 29  4]\n",
            " [11  4 13]]\n",
            "матрица AT*A:\n",
            "[[45  0]\n",
            " [ 0 14]]\n"
          ]
        }
      ]
    },
    {
      "cell_type": "markdown",
      "source": [
        "5*. Написать на Python функцию для перемножения двух произвольных матриц, не используя NumPy."
      ],
      "metadata": {
        "id": "4zinphAr1T0H"
      }
    },
    {
      "cell_type": "code",
      "source": [
        "import random\n",
        " \n",
        "def matrixmult(m1,m2):\n",
        "    s=0     #сумма\n",
        "    t=[]    #временная матрица\n",
        "    m3=[] # конечная матрица\n",
        "    if len(m2)!=len(m1[0]):\n",
        "        print(\"Матрицы не могут быть перемножены\")        \n",
        "    else:\n",
        "        r1=len(m1) #количество строк в первой матрице\n",
        "        c1=len(m1[0]) #Количество столбцов в 1   \n",
        "        r2=c1           #и строк во 2ой матрице\n",
        "        c2=len(m2[0])  # количество столбцов во 2ой матрице\n",
        "        for z in range(0,r1):\n",
        "            for j in range(0,c2):\n",
        "                for i in range(0,c1):\n",
        "                   s=s+m1[z][i]*m2[i][j]\n",
        "                t.append(s)\n",
        "                s=0\n",
        "            m3.append(t)\n",
        "            t=[]           \n",
        "    return m3\n",
        " \n",
        "def creatematrix(r,c):\n",
        "    t=[]\n",
        "    m=[]\n",
        "    for i in range(0,r):\n",
        "        for j in range(0,c):\n",
        "            t.append(random.randint(1,10))\n",
        "        m.append(t)\n",
        "        t=[]\n",
        "    return m\n",
        " \n",
        "c1=1\n",
        "r2=2\n",
        "while c1!=r2:\n",
        "    print(\"Кол-во столбцов в 1 матрице должно быть = кол-ву строк 2 матрицы\")\n",
        "    r1=int(input('Введите кол-во строк для 1 матрицы >'))\n",
        "    c1=int(input('Введите кол-во столбцов для 1 матрицы>'))\n",
        "    r2=int(input('Введите кол-во строк для второй матрицы >'))\n",
        "    c2=int(input('Введите кол-во столбцов для 2 матрицы >'))\n",
        "    \n",
        " \n",
        "m1=creatematrix(r1,c1)\n",
        "m2=creatematrix(r2,c2)\n",
        "    \n",
        " \n",
        "print(\"1я матрица \",m1)\n",
        "print('2я матрица ',m2)\n",
        " \n",
        "m3=matrixmult(m1,m2)\n",
        "print(\"произведение матриц\",m3)"
      ],
      "metadata": {
        "colab": {
          "base_uri": "https://localhost:8080/"
        },
        "id": "W0lX5Y1G1U70",
        "outputId": "f2034280-3684-40af-9e80-a2e9be180417"
      },
      "execution_count": 14,
      "outputs": [
        {
          "output_type": "stream",
          "name": "stdout",
          "text": [
            "Кол-во столбцов в 1 матрице должно быть = кол-ву строк 2 матрицы\n",
            "Введите кол-во строк для 1 матрицы >2\n",
            "Введите кол-во столбцов для 1 матрицы>3\n",
            "Введите кол-во строк для второй матрицы >3\n",
            "Введите кол-во столбцов для 2 матрицы >2\n",
            "1я матрица  [[4, 8, 1], [2, 1, 2]]\n",
            "2я матрица  [[3, 5], [6, 2], [1, 9]]\n",
            "произведение матриц [[61, 45], [14, 30]]\n"
          ]
        }
      ]
    }
  ]
}