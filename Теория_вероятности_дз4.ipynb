{
  "nbformat": 4,
  "nbformat_minor": 0,
  "metadata": {
    "colab": {
      "name": "Теория вероятности дз4.ipynb",
      "provenance": [],
      "collapsed_sections": [],
      "authorship_tag": "ABX9TyO1/qDvYkhzfsWg+eI3sQ9o",
      "include_colab_link": true
    },
    "kernelspec": {
      "name": "python3",
      "display_name": "Python 3"
    },
    "language_info": {
      "name": "python"
    }
  },
  "cells": [
    {
      "cell_type": "markdown",
      "metadata": {
        "id": "view-in-github",
        "colab_type": "text"
      },
      "source": [
        "<a href=\"https://colab.research.google.com/github/MikeSalnikov/MathAn/blob/main/%D0%A2%D0%B5%D0%BE%D1%80%D0%B8%D1%8F_%D0%B2%D0%B5%D1%80%D0%BE%D1%8F%D1%82%D0%BD%D0%BE%D1%81%D1%82%D0%B8_%D0%B4%D0%B74.ipynb\" target=\"_parent\"><img src=\"https://colab.research.google.com/assets/colab-badge.svg\" alt=\"Open In Colab\"/></a>"
      ]
    },
    {
      "cell_type": "code",
      "execution_count": 1,
      "metadata": {
        "id": "YvZaw2qiSgf4"
      },
      "outputs": [],
      "source": [
        "import numpy as np\n",
        "import math\n",
        "from scipy.stats import norm"
      ]
    },
    {
      "cell_type": "markdown",
      "source": [
        "**Задача 1**"
      ],
      "metadata": {
        "id": "YBJQUIFrSrx0"
      }
    },
    {
      "cell_type": "markdown",
      "source": [
        "Случайная непрерывная величина A имеет равномерное распределение на промежутке (200, 800].\n",
        "Найдите ее среднее значение и дисперсию."
      ],
      "metadata": {
        "id": "yW0Dd80cSuuU"
      }
    },
    {
      "cell_type": "markdown",
      "source": [
        "среднее значение (800+200)/2 = 500"
      ],
      "metadata": {
        "id": "nOAdFMGgS6S3"
      }
    },
    {
      "cell_type": "markdown",
      "source": [
        "считаем дисперсию"
      ],
      "metadata": {
        "id": "BUUPnBoNTAod"
      }
    },
    {
      "cell_type": "code",
      "source": [
        "d=(800-200)**2/12\n",
        "d"
      ],
      "metadata": {
        "colab": {
          "base_uri": "https://localhost:8080/"
        },
        "id": "SiIY1Rn9THRo",
        "outputId": "b22c92fd-42b4-42b1-8255-99f7db2f8663"
      },
      "execution_count": 2,
      "outputs": [
        {
          "output_type": "execute_result",
          "data": {
            "text/plain": [
              "30000.0"
            ]
          },
          "metadata": {},
          "execution_count": 2
        }
      ]
    },
    {
      "cell_type": "markdown",
      "source": [
        "**Задача 2**"
      ],
      "metadata": {
        "id": "VXsSs9_jTLN7"
      }
    },
    {
      "cell_type": "markdown",
      "source": [
        "О случайной непрерывной равномерно распределенной величине B известно, что ее дисперсия равна 0.2.\n",
        "Можно ли найти правую границу величины B и ее среднее значение зная, что левая граница равна 0.5?\n",
        "Если да, найдите ее."
      ],
      "metadata": {
        "id": "-1FDvRnVTNf1"
      }
    },
    {
      "cell_type": "code",
      "source": [
        "a=0.5-(12*0.2)**0.5\n",
        "a"
      ],
      "metadata": {
        "colab": {
          "base_uri": "https://localhost:8080/"
        },
        "id": "tQQ5IwzKTTDr",
        "outputId": "6b276b80-2341-42e3-a872-ae505bd0736f"
      },
      "execution_count": 3,
      "outputs": [
        {
          "output_type": "execute_result",
          "data": {
            "text/plain": [
              "-1.0491933384829668"
            ]
          },
          "metadata": {},
          "execution_count": 3
        }
      ]
    },
    {
      "cell_type": "markdown",
      "source": [
        "**Задача 3**"
      ],
      "metadata": {
        "id": "GfSnRqGCTaWY"
      }
    },
    {
      "cell_type": "markdown",
      "source": [
        "Непрерывная случайная величина X распределена нормально и задана плотностью распределения\n",
        "f(x) = (1 / (4 * sqrt(2*pi))) * (exp(-(x+2)**2) / 32).\n",
        "Найдите:\n",
        "а). M(X)\n",
        "б). D(X)\n",
        "в). std(X) (среднее квадратичное отклонение)"
      ],
      "metadata": {
        "id": "HXpySSI1Tc7l"
      }
    },
    {
      "cell_type": "markdown",
      "source": [
        "по формуле:\n",
        "M(x)=-2 std(x)=4 D(x)=16"
      ],
      "metadata": {
        "id": "rak6YbzHTjuH"
      }
    },
    {
      "cell_type": "markdown",
      "source": [
        "**Задача 4**"
      ],
      "metadata": {
        "id": "8VLJHj_0TrDq"
      }
    },
    {
      "cell_type": "markdown",
      "source": [
        "Рост взрослого населения города X имеет нормальное распределение.\n",
        "Причем, средний рост равен 174 см, а среднее квадратичное отклонение равно 8 см.\n",
        "Какова вероятность того, что случайным образом выбранный взрослый человек имеет рост:\n",
        "а). больше 182 см\n",
        "б). больше 190 см\n",
        "в). от 166 см до 190 см\n",
        "г). от 166 см до 182 см\n",
        "д). от 158 см до 190 см\n",
        "е). не выше 150 см или не ниже 190 см\n",
        "ё). не выше 150 см или не ниже 198 см\n",
        "ж). ниже 166 см."
      ],
      "metadata": {
        "id": "DwTMZNZuTxw4"
      }
    },
    {
      "cell_type": "code",
      "source": [
        "mu=174\n",
        "sigma=8"
      ],
      "metadata": {
        "id": "hIfgeK0BT6RL"
      },
      "execution_count": 4,
      "outputs": []
    },
    {
      "cell_type": "markdown",
      "source": [
        "а). больше 182 см"
      ],
      "metadata": {
        "id": "Bcre_NNjT9Q_"
      }
    },
    {
      "cell_type": "code",
      "source": [
        "pa=1-norm.cdf(182, mu, sigma)\n",
        "pa"
      ],
      "metadata": {
        "colab": {
          "base_uri": "https://localhost:8080/"
        },
        "id": "xHrPdGNVUAKN",
        "outputId": "0d4d3490-fbe2-4268-cf41-1e1fe230495b"
      },
      "execution_count": 5,
      "outputs": [
        {
          "output_type": "execute_result",
          "data": {
            "text/plain": [
              "0.15865525393145707"
            ]
          },
          "metadata": {},
          "execution_count": 5
        }
      ]
    },
    {
      "cell_type": "markdown",
      "source": [
        "б). больше 190 см"
      ],
      "metadata": {
        "id": "ALZ35nGAUECx"
      }
    },
    {
      "cell_type": "code",
      "source": [
        "pb=1-norm.cdf(190, mu, sigma)\n",
        "pb"
      ],
      "metadata": {
        "colab": {
          "base_uri": "https://localhost:8080/"
        },
        "id": "HcRMADEBUGTp",
        "outputId": "a3b2a3ae-253a-4451-9de1-71a167c46c55"
      },
      "execution_count": 6,
      "outputs": [
        {
          "output_type": "execute_result",
          "data": {
            "text/plain": [
              "0.02275013194817921"
            ]
          },
          "metadata": {},
          "execution_count": 6
        }
      ]
    },
    {
      "cell_type": "markdown",
      "source": [
        "в). от 166 см до 190 см"
      ],
      "metadata": {
        "id": "WhrMVlkUUJ0A"
      }
    },
    {
      "cell_type": "code",
      "source": [
        "pc=norm.cdf(190, mu, sigma)-norm.cdf(166, mu, sigma)\n",
        "pc"
      ],
      "metadata": {
        "colab": {
          "base_uri": "https://localhost:8080/"
        },
        "id": "_titOD49UL-X",
        "outputId": "26aa8436-ed64-4c61-f458-2a2790b5f59e"
      },
      "execution_count": 7,
      "outputs": [
        {
          "output_type": "execute_result",
          "data": {
            "text/plain": [
              "0.8185946141203637"
            ]
          },
          "metadata": {},
          "execution_count": 7
        }
      ]
    },
    {
      "cell_type": "markdown",
      "source": [
        "г). от 166 см до 182 см"
      ],
      "metadata": {
        "id": "YTF5MA-iUQWa"
      }
    },
    {
      "cell_type": "code",
      "source": [
        "pd=norm.cdf(182, mu, sigma)-norm.cdf(166, mu, sigma)\n",
        "pd"
      ],
      "metadata": {
        "colab": {
          "base_uri": "https://localhost:8080/"
        },
        "id": "4BCNEq2FUR5l",
        "outputId": "44af4ebe-2e76-4fa7-db3b-1dd5a413d6e8"
      },
      "execution_count": 8,
      "outputs": [
        {
          "output_type": "execute_result",
          "data": {
            "text/plain": [
              "0.6826894921370859"
            ]
          },
          "metadata": {},
          "execution_count": 8
        }
      ]
    },
    {
      "cell_type": "markdown",
      "source": [
        "д). от 158 см до 190 см"
      ],
      "metadata": {
        "id": "htLv84pmUYxH"
      }
    },
    {
      "cell_type": "code",
      "source": [
        "pe=norm.cdf(190, mu, sigma)-norm.cdf(158, mu, sigma)\n",
        "pe"
      ],
      "metadata": {
        "colab": {
          "base_uri": "https://localhost:8080/"
        },
        "id": "xamGY_HrUZQs",
        "outputId": "cff79705-6b5a-4b9a-87c3-67e9b3df4234"
      },
      "execution_count": 9,
      "outputs": [
        {
          "output_type": "execute_result",
          "data": {
            "text/plain": [
              "0.9544997361036416"
            ]
          },
          "metadata": {},
          "execution_count": 9
        }
      ]
    },
    {
      "cell_type": "markdown",
      "source": [
        "е). не выше 150 см или не ниже 190 см"
      ],
      "metadata": {
        "id": "ZEVNZ-5VUeXy"
      }
    },
    {
      "cell_type": "code",
      "source": [
        "pf=norm.cdf(150, mu, sigma)+1-norm.cdf(190, mu, sigma)\n",
        "pf"
      ],
      "metadata": {
        "colab": {
          "base_uri": "https://localhost:8080/"
        },
        "id": "-JKirMDyUfWf",
        "outputId": "6ec829bd-d436-4bcc-b7bd-6887d64c512d"
      },
      "execution_count": 10,
      "outputs": [
        {
          "output_type": "execute_result",
          "data": {
            "text/plain": [
              "0.0241000299798092"
            ]
          },
          "metadata": {},
          "execution_count": 10
        }
      ]
    },
    {
      "cell_type": "markdown",
      "source": [
        "ё). не выше 150 см или не ниже 198 см"
      ],
      "metadata": {
        "id": "_9epIrtlUkXr"
      }
    },
    {
      "cell_type": "code",
      "source": [
        "pg=norm.cdf(150, mu, sigma)+1-norm.cdf(198, mu, sigma)\n",
        "pg"
      ],
      "metadata": {
        "colab": {
          "base_uri": "https://localhost:8080/"
        },
        "id": "-9MW6rcpUk_6",
        "outputId": "18c3a973-6086-4eb4-c8b7-76589bef9e41"
      },
      "execution_count": 11,
      "outputs": [
        {
          "output_type": "execute_result",
          "data": {
            "text/plain": [
              "0.002699796063260096"
            ]
          },
          "metadata": {},
          "execution_count": 11
        }
      ]
    },
    {
      "cell_type": "markdown",
      "source": [
        "ж). ниже 166 см."
      ],
      "metadata": {
        "id": "Qf1j0uIQUuYZ"
      }
    },
    {
      "cell_type": "code",
      "source": [
        "ph=norm.cdf(166, mu, sigma)\n",
        "ph"
      ],
      "metadata": {
        "colab": {
          "base_uri": "https://localhost:8080/"
        },
        "id": "DCxkTn_UUvQS",
        "outputId": "d70ae1e4-7ac7-4c04-9b28-71026f35a8eb"
      },
      "execution_count": 12,
      "outputs": [
        {
          "output_type": "execute_result",
          "data": {
            "text/plain": [
              "0.15865525393145707"
            ]
          },
          "metadata": {},
          "execution_count": 12
        }
      ]
    },
    {
      "cell_type": "markdown",
      "source": [
        "**Задача 5**"
      ],
      "metadata": {
        "id": "AJP7EVpKUy6w"
      }
    },
    {
      "cell_type": "markdown",
      "source": [
        "На сколько сигм (средних квадратичных отклонений) отклоняется рост человека, равный 190 см, от\n",
        "математического ожидания роста в популяции, в которой M(X) = 178 см и D(X) = 25 кв.см?"
      ],
      "metadata": {
        "id": "EuKIad1jU07O"
      }
    },
    {
      "cell_type": "code",
      "source": [
        "std=math.sqrt(25)\n",
        "std"
      ],
      "metadata": {
        "colab": {
          "base_uri": "https://localhost:8080/"
        },
        "id": "zDhI-MrbU7QX",
        "outputId": "f84794c0-2297-4de1-b589-915ea553ef09"
      },
      "execution_count": 13,
      "outputs": [
        {
          "output_type": "execute_result",
          "data": {
            "text/plain": [
              "5.0"
            ]
          },
          "metadata": {},
          "execution_count": 13
        }
      ]
    },
    {
      "cell_type": "markdown",
      "source": [
        "считаем кол-во сигм между 190 и 178"
      ],
      "metadata": {
        "id": "pvUZNw7dVHOW"
      }
    },
    {
      "cell_type": "code",
      "source": [
        "sigma=(190-178)/std\n",
        "sigma"
      ],
      "metadata": {
        "colab": {
          "base_uri": "https://localhost:8080/"
        },
        "id": "c_beZCMDVIIH",
        "outputId": "16ba5122-0962-4723-b2d8-000aa9091c77"
      },
      "execution_count": 14,
      "outputs": [
        {
          "output_type": "execute_result",
          "data": {
            "text/plain": [
              "2.4"
            ]
          },
          "metadata": {},
          "execution_count": 14
        }
      ]
    }
  ]
}