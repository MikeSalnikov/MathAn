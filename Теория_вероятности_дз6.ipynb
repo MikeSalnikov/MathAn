{
  "nbformat": 4,
  "nbformat_minor": 0,
  "metadata": {
    "colab": {
      "name": "Теория вероятности дз6.ipynb",
      "provenance": [],
      "collapsed_sections": [],
      "authorship_tag": "ABX9TyNEL3y69HDEem5AbbV1Itaz",
      "include_colab_link": true
    },
    "kernelspec": {
      "name": "python3",
      "display_name": "Python 3"
    },
    "language_info": {
      "name": "python"
    }
  },
  "cells": [
    {
      "cell_type": "markdown",
      "metadata": {
        "id": "view-in-github",
        "colab_type": "text"
      },
      "source": [
        "<a href=\"https://colab.research.google.com/github/MikeSalnikov/MathAn/blob/main/%D0%A2%D0%B5%D0%BE%D1%80%D0%B8%D1%8F_%D0%B2%D0%B5%D1%80%D0%BE%D1%8F%D1%82%D0%BD%D0%BE%D1%81%D1%82%D0%B8_%D0%B4%D0%B76.ipynb\" target=\"_parent\"><img src=\"https://colab.research.google.com/assets/colab-badge.svg\" alt=\"Open In Colab\"/></a>"
      ]
    },
    {
      "cell_type": "code",
      "execution_count": 1,
      "metadata": {
        "id": "RYj_SUCteYVQ"
      },
      "outputs": [],
      "source": [
        "import numpy as np\n",
        "import pandas as pd\n",
        "from scipy.stats import t"
      ]
    },
    {
      "cell_type": "markdown",
      "source": [
        "**Задача 1**"
      ],
      "metadata": {
        "id": "FJ_RAu_pewRE"
      }
    },
    {
      "cell_type": "markdown",
      "source": [
        "Даны значения величины заработной платы заемщиков банка (zp) и значения их поведенческого кредитного скоринга (ks):\n",
        "zp = [35, 45, 190, 200, 40, 70, 54, 150, 120, 110],\n",
        "ks = [401, 574, 874, 919, 459, 739, 653, 902, 746, 832].\n",
        "Найдите ковариацию этих двух величин с помощью элементарных действий, а затем с помощью функции cov из numpy\n",
        "Полученные значения должны быть равны.\n",
        "Найдите коэффициент корреляции Пирсона с помощью ковариации и среднеквадратичных отклонений двух признаков,\n",
        "а затем с использованием функций из библиотек numpy и pandas."
      ],
      "metadata": {
        "id": "9q8ZuKLAeyf6"
      }
    },
    {
      "cell_type": "markdown",
      "source": [
        "Определяем массивы для Numpy и Pandas"
      ],
      "metadata": {
        "id": "LPltTnm6e2cO"
      }
    },
    {
      "cell_type": "code",
      "source": [
        "zp=np.array([35, 45, 190, 200, 40, 70, 54, 150, 120, 110])\n",
        "ks=np.array([401, 574, 874, 919, 459, 739, 653, 902, 746, 832])\n",
        "\n",
        "zp_=pd.Series([35, 45, 190, 200, 40, 70, 54, 150, 120, 110])\n",
        "ks_=pd.Series([401, 574, 874, 919, 459, 739, 653, 902, 746, 832])"
      ],
      "metadata": {
        "id": "k-s5pLMQe5fe"
      },
      "execution_count": 2,
      "outputs": []
    },
    {
      "cell_type": "markdown",
      "source": [
        "Считаем ковариацию через мат ожидание и смещенную функцию cov"
      ],
      "metadata": {
        "id": "zihLyFhKe_or"
      }
    },
    {
      "cell_type": "code",
      "source": [
        "cov=np.mean(zp*ks)-np.mean(zp)*np.mean(ks)\n",
        "cov_=np.cov(zp,ks,ddof=0)\n",
        "cov, cov_"
      ],
      "metadata": {
        "colab": {
          "base_uri": "https://localhost:8080/"
        },
        "id": "A1bXaCFOfANr",
        "outputId": "e4ad40a9-2be4-4545-99e8-7bf6050c06a7"
      },
      "execution_count": 3,
      "outputs": [
        {
          "output_type": "execute_result",
          "data": {
            "text/plain": [
              "(9157.839999999997, array([[ 3494.64,  9157.84],\n",
              "        [ 9157.84, 30468.89]]))"
            ]
          },
          "metadata": {},
          "execution_count": 3
        }
      ]
    },
    {
      "cell_type": "markdown",
      "source": [
        "считаем коэф пирсона через формулу смещенной ковариации и смещенных СКО, через Numpy и Pandas"
      ],
      "metadata": {
        "id": "JfoWQSe-fH1r"
      }
    },
    {
      "cell_type": "code",
      "source": [
        "pear=cov/(zp.std(ddof=0)*ks.std(ddof=0))\n",
        "pear_=np.corrcoef(zp, ks)\n",
        "pear_pnd=zp_.corr(ks_)\n",
        "pear,pear_,pear_pnd"
      ],
      "metadata": {
        "colab": {
          "base_uri": "https://localhost:8080/"
        },
        "id": "FNmvI_eUfIl9",
        "outputId": "95086b98-480f-4b0f-e2aa-f5ceaaed2ecd"
      },
      "execution_count": 4,
      "outputs": [
        {
          "output_type": "execute_result",
          "data": {
            "text/plain": [
              "(0.8874900920739158, array([[1.        , 0.88749009],\n",
              "        [0.88749009, 1.        ]]), 0.8874900920739162)"
            ]
          },
          "metadata": {},
          "execution_count": 4
        }
      ]
    },
    {
      "cell_type": "markdown",
      "source": [
        "**Задача 2**"
      ],
      "metadata": {
        "id": "XdMfvo5RfRGo"
      }
    },
    {
      "cell_type": "markdown",
      "source": [
        "Измерены значения IQ выборки студентов,\n",
        "обучающихся в местных технических вузах:\n",
        "131, 125, 115, 122, 131, 115, 107, 99, 125, 111.\n",
        "Известно, что в генеральной совокупности IQ распределен нормально.\n",
        "Найдите доверительный интервал для математического ожидания с надежностью 0.95."
      ],
      "metadata": {
        "id": "WgiZeaxgfS7V"
      }
    },
    {
      "cell_type": "code",
      "source": [
        "iq=np.array([131, 125, 115, 122, 131, 115, 107, 99, 125, 111])"
      ],
      "metadata": {
        "id": "VXTGwFEKffVX"
      },
      "execution_count": 6,
      "outputs": []
    },
    {
      "cell_type": "markdown",
      "source": [
        "считаем кол-во в выборке, ско и мат ожидание"
      ],
      "metadata": {
        "id": "OgGlsn59fkz9"
      }
    },
    {
      "cell_type": "code",
      "source": [
        "n=iq.size\n",
        "std=iq.std(ddof=1)\n",
        "mean=iq.mean()\n",
        "n,std,mean"
      ],
      "metadata": {
        "colab": {
          "base_uri": "https://localhost:8080/"
        },
        "id": "LLkRY3UPflbV",
        "outputId": "1b10fd52-5dbd-4aca-a3be-c8c44f6d3c15"
      },
      "execution_count": 7,
      "outputs": [
        {
          "output_type": "execute_result",
          "data": {
            "text/plain": [
              "(10, 10.54566788359614, 118.1)"
            ]
          },
          "metadata": {},
          "execution_count": 7
        }
      ]
    },
    {
      "cell_type": "markdown",
      "source": [
        "считаем значения z и отклонения"
      ],
      "metadata": {
        "id": "mcaVQrl7fvtE"
      }
    },
    {
      "cell_type": "code",
      "source": [
        "z=t.ppf((1+0.95)/2,n-1)\n",
        "d=z*std/(n)**.5\n",
        "d,z"
      ],
      "metadata": {
        "colab": {
          "base_uri": "https://localhost:8080/"
        },
        "id": "TZjxpClpfyMD",
        "outputId": "e1199394-56e1-4959-f9a9-6d510283c628"
      },
      "execution_count": 8,
      "outputs": [
        {
          "output_type": "execute_result",
          "data": {
            "text/plain": [
              "(7.543916348412745, 2.2621571627409915)"
            ]
          },
          "metadata": {},
          "execution_count": 8
        }
      ]
    },
    {
      "cell_type": "markdown",
      "source": [
        "считаем интервал"
      ],
      "metadata": {
        "id": "EkVySxwnf1O3"
      }
    },
    {
      "cell_type": "code",
      "source": [
        "a=mean-d\n",
        "b=mean+d\n",
        "a,b"
      ],
      "metadata": {
        "colab": {
          "base_uri": "https://localhost:8080/"
        },
        "id": "ZYWHM6I6f2DU",
        "outputId": "3c78df82-38ee-4bc6-b8a8-ad5c3b5bc12b"
      },
      "execution_count": 9,
      "outputs": [
        {
          "output_type": "execute_result",
          "data": {
            "text/plain": [
              "(110.55608365158724, 125.64391634841274)"
            ]
          },
          "metadata": {},
          "execution_count": 9
        }
      ]
    },
    {
      "cell_type": "markdown",
      "source": [
        "**Задача 3**"
      ],
      "metadata": {
        "id": "yoHERogVf518"
      }
    },
    {
      "cell_type": "markdown",
      "source": [
        "Известно, что рост футболистов в сборной распределен нормально\n",
        "с дисперсией генеральной совокупности, равной 25 кв.см. Объем выборки равен 27,\n",
        "среднее выборочное составляет 174.2. Найдите доверительный интервал для математического\n",
        "ожидания с надежностью 0.95."
      ],
      "metadata": {
        "id": "wgEt8Nxlf80a"
      }
    },
    {
      "cell_type": "code",
      "source": [
        "var=25\n",
        "std=(var)**.5\n",
        "n=27\n",
        "mean=174.2"
      ],
      "metadata": {
        "id": "uh1o1exDgCRO"
      },
      "execution_count": 10,
      "outputs": []
    },
    {
      "cell_type": "markdown",
      "source": [
        "считаем значения z и отклонения"
      ],
      "metadata": {
        "id": "QYTS2mI6gG_c"
      }
    },
    {
      "cell_type": "code",
      "source": [
        "z=t.ppf((1+0.95)/2,n-1)\n",
        "d=z*std/(n)**.5\n",
        "d,z"
      ],
      "metadata": {
        "colab": {
          "base_uri": "https://localhost:8080/"
        },
        "id": "CIP9Sy4tgHuZ",
        "outputId": "bcd3dd6d-33c4-451f-f519-2d43e6fd3aac"
      },
      "execution_count": 11,
      "outputs": [
        {
          "output_type": "execute_result",
          "data": {
            "text/plain": [
              "(1.977934124546103, 2.055529438642871)"
            ]
          },
          "metadata": {},
          "execution_count": 11
        }
      ]
    },
    {
      "cell_type": "markdown",
      "source": [
        "считаем интервал"
      ],
      "metadata": {
        "id": "GmpC3v85gNZL"
      }
    },
    {
      "cell_type": "code",
      "source": [
        "a=mean-d\n",
        "b=mean+d\n",
        "a,b"
      ],
      "metadata": {
        "colab": {
          "base_uri": "https://localhost:8080/"
        },
        "id": "gYbNhqENgOVj",
        "outputId": "cf4d53d0-b9d0-48e8-ff22-88abff711b2a"
      },
      "execution_count": 12,
      "outputs": [
        {
          "output_type": "execute_result",
          "data": {
            "text/plain": [
              "(172.2220658754539, 176.17793412454608)"
            ]
          },
          "metadata": {},
          "execution_count": 12
        }
      ]
    }
  ]
}