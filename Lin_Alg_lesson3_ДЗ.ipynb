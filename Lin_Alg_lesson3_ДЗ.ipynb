{
  "nbformat": 4,
  "nbformat_minor": 0,
  "metadata": {
    "colab": {
      "name": "Lin_Alg_lesson3_ДЗ.ipynb",
      "provenance": [],
      "collapsed_sections": [],
      "authorship_tag": "ABX9TyMDe2VZuddT7e/xJJ3vFk4j",
      "include_colab_link": true
    },
    "kernelspec": {
      "name": "python3",
      "display_name": "Python 3"
    },
    "language_info": {
      "name": "python"
    }
  },
  "cells": [
    {
      "cell_type": "markdown",
      "metadata": {
        "id": "view-in-github",
        "colab_type": "text"
      },
      "source": [
        "<a href=\"https://colab.research.google.com/github/MikeSalnikov/MathAn/blob/main/Lin_Alg_lesson3_%D0%94%D0%97.ipynb\" target=\"_parent\"><img src=\"https://colab.research.google.com/assets/colab-badge.svg\" alt=\"Open In Colab\"/></a>"
      ]
    },
    {
      "cell_type": "markdown",
      "source": [
        "__1.__ Найти собственные векторы и собственные значения для линейного оператора, заданного матрицей\n",
        "\n",
        "$$A=\\begin{pmatrix}\n",
        "-1 & -6\\\\ \n",
        "2 & 6\n",
        "\\end{pmatrix}.$$"
      ],
      "metadata": {
        "id": "r8b-uvVXPrjH"
      }
    },
    {
      "cell_type": "code",
      "execution_count": 1,
      "metadata": {
        "colab": {
          "base_uri": "https://localhost:8080/"
        },
        "id": "3yPEcYR1JinN",
        "outputId": "a4947fde-d4d3-4bd0-ec77-ee81cabac7dd"
      },
      "outputs": [
        {
          "output_type": "stream",
          "name": "stdout",
          "text": [
            "Собственные числа: [2. 3.]\n",
            "Собственные вектора: \n",
            "[[-0.89442719  0.83205029]\n",
            " [ 0.4472136  -0.5547002 ]]\n"
          ]
        }
      ],
      "source": [
        "import numpy as np\n",
        "\n",
        "a = np.array([[-1, -6], [2, 6]])\n",
        "w, v = np.linalg.eig(a)\n",
        "print(f'Собственные числа: {w}')\n",
        "print(f'Собственные вектора: \\n{v}')"
      ]
    },
    {
      "cell_type": "markdown",
      "source": [
        "__2.__ Дан оператор поворота на 180 градусов, задаваемый матрицей \n",
        "\n",
        "$$A=\\begin{pmatrix}\n",
        "-1 & 0\\\\ \n",
        "0 & -1\n",
        "\\end{pmatrix}.$$\n",
        "\n",
        "Показать, что __любой__ вектор является для него собственным."
      ],
      "metadata": {
        "id": "ZmA_cpfAQHZH"
      }
    },
    {
      "cell_type": "markdown",
      "source": [
        "$$Ae_{1}=-1\\cdot e_{1}+0\\cdot e_{2}=-e_{1},$$\n",
        "$$Ae_{2}=0\\cdot e_{1}-1\\cdot e_{2}=-e_{2},$$"
      ],
      "metadata": {
        "id": "K81Mlb42QcGE"
      }
    },
    {
      "cell_type": "markdown",
      "source": [
        "Теперь найдем собственные значения линейного оператора, составив и решив характеристическое уравнение:\n",
        "\n",
        "$$\\begin{vmatrix}\n",
        "-1-\\lambda & 0\\\\ \n",
        "0 & -1-\\lambda\n",
        "\\end{vmatrix} = 0,$$\n",
        "\n",
        "$$(-1-\\lambda)(-1-\\lambda)-0\\cdot0=0,$$\n",
        "\n",
        "$$(1+\\lambda)^{2}=0,$$\n",
        "\n",
        "$$\\lambda=-1.$$"
      ],
      "metadata": {
        "id": "Q0tZjDt9SWdM"
      }
    },
    {
      "cell_type": "markdown",
      "source": [
        "Теперь найдем собственные векторы вида $\\begin{pmatrix}\n",
        "x_{1}\\\\ \n",
        "x_{2}\n",
        "\\end{pmatrix}$, подставив полученное собственное значение в выражение $\\textbf{A}x=\\lambda x$:\n",
        "\n",
        "$$\\begin{pmatrix}\n",
        "-1 & 0\\\\ \n",
        "0 & -1\n",
        "\\end{pmatrix}\n",
        "\\begin{pmatrix}\n",
        "x_{1}\\\\ \n",
        "x_{2}\n",
        "\\end{pmatrix}=\n",
        "\\lambda\n",
        "\\begin{pmatrix}\n",
        "x_{1}\\\\ \n",
        "x_{2}\n",
        "\\end{pmatrix}.\n",
        "$$"
      ],
      "metadata": {
        "id": "8kctDetFTCn3"
      }
    },
    {
      "cell_type": "markdown",
      "source": [
        "Получим\n",
        "\n",
        "$$\\begin{cases}\n",
        "-x_{1}+0 \\cdot x_{2}=- x_{1}, \\\\\n",
        "0 \\cdot x_{1}-x_{2}=- x_{2}.\n",
        "\\end{cases}$$ \n",
        "\n",
        "Перенеся все в левую часть, получим\n",
        "\n",
        "\n",
        "\n",
        "$$\\begin{cases}\n",
        "0=0, \\\\\n",
        "0 = 0.\n",
        "\\end{cases}$$\n",
        "\n",
        "следовательно любое $$x_{1} x_{2}$$ удовлетворяет условиям системы уравнений"
      ],
      "metadata": {
        "id": "cL-8zNn1QIKx"
      }
    },
    {
      "cell_type": "markdown",
      "source": [
        "__3.__ Пусть линейный оператор задан матрицей\n",
        "\n",
        "$$A=\\begin{pmatrix}\n",
        "1 & 1\\\\ \n",
        "-1 & 3\n",
        "\\end{pmatrix}.$$\n",
        "\n",
        "Установить, является ли вектор $x=(1,1)$ собственным вектором этого линейного оператора.\n"
      ],
      "metadata": {
        "id": "Yeq9SNWwUbr6"
      }
    },
    {
      "cell_type": "code",
      "source": [
        "a = np.array([[1, 1], [-1, 3]])\n",
        "w, v = np.linalg.eig(a)\n",
        "print(f'Собственные числа: {w}')"
      ],
      "metadata": {
        "colab": {
          "base_uri": "https://localhost:8080/"
        },
        "id": "40k6e-HbUj8z",
        "outputId": "17cf4f9c-0e9d-4a57-be33-62b058df1f03"
      },
      "execution_count": 2,
      "outputs": [
        {
          "output_type": "stream",
          "name": "stdout",
          "text": [
            "Собственные числа: [2.00000002 1.99999998]\n"
          ]
        }
      ]
    },
    {
      "cell_type": "markdown",
      "source": [
        "Получим\n",
        "\n",
        "$$\\begin{cases}\n",
        "x_{1}+x_{2}=2 x_{1}, \\\\\n",
        "-x_{1}+3x_{3}=2 x_{2}.\n",
        "\\end{cases}$$ \n"
      ],
      "metadata": {
        "id": "TsKMMusaUv1M"
      }
    },
    {
      "cell_type": "markdown",
      "source": [
        "$$\\begin{cases}\n",
        "x_{1}= x_{2}, \\\\\n",
        "x_{1}= x_{2}.\n",
        "\\end{cases}$$ "
      ],
      "metadata": {
        "id": "Kdm1RcQJVbvI"
      }
    },
    {
      "cell_type": "markdown",
      "source": [
        "следовательно любое $$x_{1} x_{2}$$ удовлетворяет условиям системы уравнений, и вектор (1,1) является собственным"
      ],
      "metadata": {
        "id": "-NPScgytVv8f"
      }
    },
    {
      "cell_type": "markdown",
      "source": [
        "__4.__ Пусть линейный оператор задан матрицей\n",
        "\n",
        "$$A=\\begin{pmatrix}\n",
        "0 & 3 & 0\\\\ \n",
        "3 & 0 & 0\\\\\n",
        "0 & 0 & 3\n",
        "\\end{pmatrix}.$$\n",
        "\n",
        "Установить, является ли вектор $x=(3, -3, -4)$ собственным вектором этого линейного оператора."
      ],
      "metadata": {
        "id": "gBR6EvmhV3Ql"
      }
    },
    {
      "cell_type": "markdown",
      "source": [
        "Предположим, что вектор  является собственным вектором заданного линейного оператора, тогда должно существовать некоторое вещественное число $$ \\lambda $$ , при котором"
      ],
      "metadata": {
        "id": "qctpG0ScV9wk"
      }
    },
    {
      "cell_type": "markdown",
      "source": [
        "$$\\begin{pmatrix}\n",
        "0 & 3 & 0\\\\ \n",
        "3 & 0 & 0\\\\\n",
        "0 & 0 & 3\n",
        "\\end{pmatrix}\n",
        "\\begin{pmatrix}\n",
        "3\\\\\n",
        "-3\\\\\n",
        "4\n",
        "\\end{pmatrix}=\n",
        "\\lambda\n",
        "\\begin{pmatrix}\n",
        "3\\\\\n",
        "-3\\\\\n",
        "-4\n",
        "\\end{pmatrix}\n",
        "$$\n",
        "\n",
        "$$\\Rightarrow\n",
        "\\begin{cases}\n",
        "-9=3 \\cdot\\lambda\\\\ \n",
        "9=-3 \\cdot\\lambda\\\\\n",
        "-12=-4 \\cdot \\lambda\n",
        "\\end{cases}\n",
        "\\\n",
        "$$"
      ],
      "metadata": {
        "id": "Z38oXGDUWn_B"
      }
    },
    {
      "cell_type": "markdown",
      "source": [
        "система решения не имеет, вектор не является собственным"
      ],
      "metadata": {
        "id": "OkVBL1aEXwlJ"
      }
    }
  ]
}