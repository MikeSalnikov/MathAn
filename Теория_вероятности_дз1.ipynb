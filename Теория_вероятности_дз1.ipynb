{
  "nbformat": 4,
  "nbformat_minor": 0,
  "metadata": {
    "colab": {
      "name": "Теория вероятности дз1.ipynb",
      "provenance": [],
      "collapsed_sections": [],
      "authorship_tag": "ABX9TyNbYnENSxgz8pthYZwmHNEx",
      "include_colab_link": true
    },
    "kernelspec": {
      "name": "python3",
      "display_name": "Python 3"
    },
    "language_info": {
      "name": "python"
    }
  },
  "cells": [
    {
      "cell_type": "markdown",
      "metadata": {
        "id": "view-in-github",
        "colab_type": "text"
      },
      "source": [
        "<a href=\"https://colab.research.google.com/github/MikeSalnikov/MathAn/blob/main/%D0%A2%D0%B5%D0%BE%D1%80%D0%B8%D1%8F_%D0%B2%D0%B5%D1%80%D0%BE%D1%8F%D1%82%D0%BD%D0%BE%D1%81%D1%82%D0%B8_%D0%B4%D0%B71.ipynb\" target=\"_parent\"><img src=\"https://colab.research.google.com/assets/colab-badge.svg\" alt=\"Open In Colab\"/></a>"
      ]
    },
    {
      "cell_type": "code",
      "execution_count": null,
      "metadata": {
        "id": "O-UPDble6qHi"
      },
      "outputs": [],
      "source": [
        ""
      ]
    },
    {
      "cell_type": "markdown",
      "source": [
        "Дз1. Теория вероятностей \n"
      ],
      "metadata": {
        "id": "u6sWv1XS6q74"
      }
    },
    {
      "cell_type": "markdown",
      "source": [
        "Урок 1. Случайные события. Условная вероятность. Формула Байеса. Независимые испытания"
      ],
      "metadata": {
        "id": "U-MihZWI63Li"
      }
    },
    {
      "cell_type": "markdown",
      "source": [
        "1. Из колоды в 52 карты извлекаются случайным образом 4 карты. \n",
        "a) Найти вероятность того, что все карты – крести. \n",
        "б) Найти вероятность, что среди 4-х карт окажется хотя бы один туз."
      ],
      "metadata": {
        "id": "hP3vCnvW6vbJ"
      }
    },
    {
      "cell_type": "markdown",
      "source": [
        ""
      ],
      "metadata": {
        "id": "aMdT9lNZ6xvE"
      }
    },
    {
      "cell_type": "code",
      "source": [
        "import numpy as np"
      ],
      "metadata": {
        "id": "TuFUH0r16_Pz"
      },
      "execution_count": null,
      "outputs": []
    },
    {
      "cell_type": "code",
      "source": [
        "from math import factorial"
      ],
      "metadata": {
        "id": "rZZFH3q5_3Iy"
      },
      "execution_count": null,
      "outputs": []
    },
    {
      "cell_type": "code",
      "source": [
        "def combinations(n, k):\n",
        "    return int(factorial(n) / (factorial(k) * factorial(n - k)))"
      ],
      "metadata": {
        "id": "8YvF4if9_4T8"
      },
      "execution_count": null,
      "outputs": []
    },
    {
      "cell_type": "code",
      "source": [
        "combinations(13, 4)"
      ],
      "metadata": {
        "colab": {
          "base_uri": "https://localhost:8080/"
        },
        "id": "3sy8lqof_m6F",
        "outputId": "8b15931c-1ba7-46d4-d9b6-7cfa3ab07782"
      },
      "execution_count": null,
      "outputs": [
        {
          "output_type": "execute_result",
          "data": {
            "text/plain": [
              "715"
            ]
          },
          "metadata": {},
          "execution_count": 6
        }
      ]
    },
    {
      "cell_type": "markdown",
      "source": [
        "определениче числителя"
      ],
      "metadata": {
        "id": "V-di3s4AASY7"
      }
    },
    {
      "cell_type": "markdown",
      "source": [
        "$$C_{52}^4 = \\frac{52!}{4!(52 - 4)!} = 270725$$"
      ],
      "metadata": {
        "id": "7EhkEb577_jZ"
      }
    },
    {
      "cell_type": "code",
      "source": [
        "combinations(52, 4)"
      ],
      "metadata": {
        "colab": {
          "base_uri": "https://localhost:8080/"
        },
        "id": "MCnfzG9sAF24",
        "outputId": "9dbed45d-a4a1-4f26-8b05-0d654fb1ab1f"
      },
      "execution_count": null,
      "outputs": [
        {
          "output_type": "execute_result",
          "data": {
            "text/plain": [
              "270725"
            ]
          },
          "metadata": {},
          "execution_count": 8
        }
      ]
    },
    {
      "cell_type": "markdown",
      "source": [
        "определение знаменателя"
      ],
      "metadata": {
        "id": "zcNM8zHOAXM0"
      }
    },
    {
      "cell_type": "markdown",
      "source": [
        "делим эти два числа исходя из того тчо решение находиться по формуле (чет сложно написать) Р= числитель С 4по 13, знаменатель С 4 по 52 "
      ],
      "metadata": {
        "id": "JbA7qQE-AaVe"
      }
    },
    {
      "cell_type": "code",
      "source": [
        "715/270725"
      ],
      "metadata": {
        "colab": {
          "base_uri": "https://localhost:8080/"
        },
        "id": "6BoxTrfHA3Vp",
        "outputId": "9285b89d-a708-416d-e8e8-89ee7e87ccab"
      },
      "execution_count": null,
      "outputs": [
        {
          "output_type": "execute_result",
          "data": {
            "text/plain": [
              "0.0026410564225690276"
            ]
          },
          "metadata": {},
          "execution_count": 12
        }
      ]
    },
    {
      "cell_type": "markdown",
      "source": [
        "задача Б:\n",
        "Р(в)=1- числитель  С 4 по 48 / знаменатель С 4 по 52\n",
        " 1- (194580/270725)"
      ],
      "metadata": {
        "id": "DA_TfEApFMHa"
      }
    },
    {
      "cell_type": "code",
      "source": [
        "1- (194580/270725)"
      ],
      "metadata": {
        "colab": {
          "base_uri": "https://localhost:8080/"
        },
        "id": "hX61i6n9Gin1",
        "outputId": "ed4fdfbb-36a1-44c5-874c-a6eb06c60706"
      },
      "execution_count": null,
      "outputs": [
        {
          "output_type": "execute_result",
          "data": {
            "text/plain": [
              "0.2812632745405854"
            ]
          },
          "metadata": {},
          "execution_count": 15
        }
      ]
    },
    {
      "cell_type": "markdown",
      "source": [
        ""
      ],
      "metadata": {
        "id": "dqKrr78H7sck"
      }
    },
    {
      "cell_type": "markdown",
      "source": [
        "## Задача 2. \n",
        "\n",
        "На входной двери подъезда установлен кодовый замок, содержащий десять кнопок с цифрами от 0 до 9. Код содержит три цифры, которые нужно нажать одновременно. Какова вероятность того, что человек, не знающий код, откроет дверь с первой попытки?"
      ],
      "metadata": {
        "id": "qtS8B0ilGnJA"
      }
    },
    {
      "cell_type": "markdown",
      "source": [
        "Мы помним, чтобы найти число сочетаний из n по k нужно: Мы знаем, что кнопок всего 10. Значит, число способов, которыми можно выбрать 3 цифры из 10 равно: Мы знаем, что кнопок всего 10. Значит, число способов, которыми можно выбрать 3 цифры из 10 равно: Существует всего один способ нажатия трех нужных нам кнопок. Существует всего один способ нажатия трех нужных нам кнопок. Следовательно, вероятность равна 1/120 Следовательно, вероятность равна 1/120 "
      ],
      "metadata": {
        "id": "x6up8kQOG0M4"
      }
    },
    {
      "cell_type": "markdown",
      "source": [
        "### Задача 3"
      ],
      "metadata": {
        "id": "oy58LX17HJju"
      }
    },
    {
      "cell_type": "markdown",
      "source": [
        "В ящике имеется 15 деталей, из которых 9 окрашены. Рабочий случайным образом извлекает 3 детали. Какова вероятность того, что все извлеченные детали окрашены?"
      ],
      "metadata": {
        "id": "sVtRGPLVHWLx"
      }
    },
    {
      "cell_type": "markdown",
      "source": [
        "Решение задачи:\n",
        "1. Поскольку всего деталей 15, а окрашенных среди них 9, то вероятность вытащить окрашенную деталь равна 9/15, т.е. равна 3/5=0,6\n",
        "2. Вероятность вытащить вторую окрашенные детали также равна 8/14, \n",
        "Вероятность вытащить третью окрашенные детали равна 7/13 но для выполнения условия задачи (все три детали - окрашенные), необходимо, чтобы все три вероятности выполнялись одновременно. В таких случаях вероятности перемножают.\n",
        "3. Выполним умножение:\n",
        "3/5 * 8/14 * 7/13 = 12/65 = 0.184615385\n",
        "Ответ: вероятность того, что извлеченные детали окажутся окрашенными, равна 0.184615385"
      ],
      "metadata": {
        "id": "4cJ1_ocbHahJ"
      }
    },
    {
      "cell_type": "markdown",
      "source": [
        "**Задача 4**"
      ],
      "metadata": {
        "id": "B1manc97mKez"
      }
    },
    {
      "cell_type": "markdown",
      "source": [
        "В лотерее 100 билетов. Из них 2 выигрышных. Какова вероятность того, что 2 приобретенных билета окажутся выигрышными?"
      ],
      "metadata": {
        "id": "4lq4jNJImN3X"
      }
    },
    {
      "cell_type": "markdown",
      "source": [
        "n=C2100=100!/(100–2)!·2!=98·99/2=4950\n",
        "m=C22=2!/(2–2)!·2!=1\n",
        "\n",
        "p=m/n=1/4950 ≈ 0,002"
      ],
      "metadata": {
        "id": "F30Yjyc9mOjI"
      }
    },
    {
      "cell_type": "markdown",
      "source": [
        ""
      ],
      "metadata": {
        "id": "xnJNqF39mpHx"
      }
    },
    {
      "cell_type": "markdown",
      "source": [
        "$$C_{100}^2 = \\frac{100!}{2!(100 - 2)!} = 4950$$"
      ],
      "metadata": {
        "id": "7TNJDPq_myhw"
      }
    },
    {
      "cell_type": "markdown",
      "source": [
        "$$C_{2}^2 = \\frac{2!}{2!(2 - 2)!} = 1$$"
      ],
      "metadata": {
        "id": "FrVCVnuanutT"
      }
    },
    {
      "cell_type": "code",
      "source": [
        "combinations(100, 2)"
      ],
      "metadata": {
        "colab": {
          "base_uri": "https://localhost:8080/"
        },
        "id": "sxGYiCcbnHBS",
        "outputId": "e0d64610-9977-487c-8e40-06de2125870d"
      },
      "execution_count": null,
      "outputs": [
        {
          "output_type": "execute_result",
          "data": {
            "text/plain": [
              "4950"
            ]
          },
          "metadata": {},
          "execution_count": 6
        }
      ]
    },
    {
      "cell_type": "code",
      "source": [
        "combinations(2, 2)"
      ],
      "metadata": {
        "colab": {
          "base_uri": "https://localhost:8080/"
        },
        "id": "mOyA1OrqnWP0",
        "outputId": "a996cbf9-7b06-4131-f284-5acc39b90081"
      },
      "execution_count": null,
      "outputs": [
        {
          "output_type": "execute_result",
          "data": {
            "text/plain": [
              "1"
            ]
          },
          "metadata": {},
          "execution_count": 7
        }
      ]
    },
    {
      "cell_type": "code",
      "source": [
        "1/4950"
      ],
      "metadata": {
        "colab": {
          "base_uri": "https://localhost:8080/"
        },
        "id": "rXWN75kzn4I1",
        "outputId": "9ac7c76e-f0c2-43ef-abee-bfebf1aa6c1a"
      },
      "execution_count": null,
      "outputs": [
        {
          "output_type": "execute_result",
          "data": {
            "text/plain": [
              "0.00020202020202020202"
            ]
          },
          "metadata": {},
          "execution_count": 8
        }
      ]
    },
    {
      "cell_type": "markdown",
      "source": [
        "**Задача 5**"
      ],
      "metadata": {
        "id": "HeX9c0zNn75T"
      }
    },
    {
      "cell_type": "markdown",
      "source": [
        "На соревновании по биатлону один из трех спортсменов стреляет и попадает в мишень. Вероятность попадания для первого спортсмена равна 0.9, для второго — 0.8, для третьего — 0.6. Найти вероятность того, что выстрел произведен: a). первым спортсменом б). вторым спортсменом в). третьим спортсменом."
      ],
      "metadata": {
        "id": "j65YFS9Gn-Rv"
      }
    },
    {
      "cell_type": "markdown",
      "source": [
        "Событием $A$ будем считать попадание в мишень, а событиями $B_1, B_2$ и $B_3$ — что выстрел совершил первый, второй или третий спортсмен:"
      ],
      "metadata": {
        "id": "XaqjKHLgoCI_"
      }
    },
    {
      "cell_type": "markdown",
      "source": [
        "$$P(A\\:|\\:B_1) = 0.9$$\n",
        "\n",
        "$$P(A\\:|\\:B_2) = 0.8$$\n",
        "\n",
        "$$P(A\\:|\\:B_3) = 0.6$$"
      ],
      "metadata": {
        "id": "pYB38dyLofU0"
      }
    },
    {
      "cell_type": "markdown",
      "source": [
        "Вероятность того, что стрелял первый спортсмен — при условии, что выстрел был удачным, — будем находить по формуле:"
      ],
      "metadata": {
        "id": "ypkTnQIeooGC"
      }
    },
    {
      "cell_type": "markdown",
      "source": [
        "$$P(B_1\\:|\\:A) = \\frac{P(B_1) \\cdot P(A\\:|\\:B_1)}{P(A)}$$\n",
        "\n",
        "---"
      ],
      "metadata": {
        "id": "iQEZeXMUpAd7"
      }
    },
    {
      "cell_type": "markdown",
      "source": [
        "Все величины подставим из условия, а знаменатель дроби распишем по формуле полной вероятности:"
      ],
      "metadata": {
        "id": "J4rGtAROpEcH"
      }
    },
    {
      "cell_type": "markdown",
      "source": [
        "$$P(B_1\\:|\\:A) = \\frac{\\frac{1}{3} \\cdot 0.9}{\\frac{1}{3} \\cdot 0.9 + \\frac{1}{3} \\cdot 0.8 + \\frac{1}{3} \\cdot 0.6} = 0.391304348$$"
      ],
      "metadata": {
        "id": "0iJ0Kc6HpI85"
      }
    },
    {
      "cell_type": "markdown",
      "source": [
        "$$P(B_2\\:|\\:A) = \\frac{\\frac{1}{3} \\cdot 0.8}{\\frac{1}{3} \\cdot 0.9 + \\frac{1}{3} \\cdot 0.8 + \\frac{1}{3} \\cdot 0.6} = 0.347826087$$"
      ],
      "metadata": {
        "id": "pYYluACSsey4"
      }
    },
    {
      "cell_type": "markdown",
      "source": [
        "$$P(B_3\\:|\\:A) = \\frac{\\frac{1}{3} \\cdot 0.6}{\\frac{1}{3} \\cdot 0.9 + \\frac{1}{3} \\cdot 0.8 + \\frac{1}{3} \\cdot 0.6} = 0.260869565$$"
      ],
      "metadata": {
        "id": "CfyVzZLxsfWR"
      }
    }
  ]
}