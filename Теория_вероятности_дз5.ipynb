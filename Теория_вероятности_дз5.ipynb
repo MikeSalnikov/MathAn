{
  "nbformat": 4,
  "nbformat_minor": 0,
  "metadata": {
    "colab": {
      "name": "Теория вероятности дз5.ipynb",
      "provenance": [],
      "collapsed_sections": [],
      "authorship_tag": "ABX9TyM1egMBt83zJOUM5L7weAJg",
      "include_colab_link": true
    },
    "kernelspec": {
      "name": "python3",
      "display_name": "Python 3"
    },
    "language_info": {
      "name": "python"
    }
  },
  "cells": [
    {
      "cell_type": "markdown",
      "metadata": {
        "id": "view-in-github",
        "colab_type": "text"
      },
      "source": [
        "<a href=\"https://colab.research.google.com/github/MikeSalnikov/MathAn/blob/main/%D0%A2%D0%B5%D0%BE%D1%80%D0%B8%D1%8F_%D0%B2%D0%B5%D1%80%D0%BE%D1%8F%D1%82%D0%BD%D0%BE%D1%81%D1%82%D0%B8_%D0%B4%D0%B75.ipynb\" target=\"_parent\"><img src=\"https://colab.research.google.com/assets/colab-badge.svg\" alt=\"Open In Colab\"/></a>"
      ]
    },
    {
      "cell_type": "code",
      "execution_count": 1,
      "metadata": {
        "id": "Yu-dkDCyeyB5"
      },
      "outputs": [],
      "source": [
        "import numpy as np\n",
        "import math\n",
        "from scipy.stats import norm\n",
        "from scipy.stats import t"
      ]
    },
    {
      "cell_type": "markdown",
      "source": [
        "**Задача 1**"
      ],
      "metadata": {
        "id": "DYKSAGsQe3yV"
      }
    },
    {
      "cell_type": "markdown",
      "source": [
        "Известно, что генеральная совокупность распределена нормально\n",
        "со средним квадратическим отклонением, равным 16.\n",
        "Найти доверительный интервал для оценки математического ожидания a с надежностью 0.95,\n",
        "если выборочная средняя M = 80, а объем выборки n = 256."
      ],
      "metadata": {
        "id": "lkC_7soke6q3"
      }
    },
    {
      "cell_type": "markdown",
      "source": [
        "считаем значение z для интервала 0.95"
      ],
      "metadata": {
        "id": "28gxfd0_f9y7"
      }
    },
    {
      "cell_type": "code",
      "source": [
        "z=norm.ppf((1+0.95)/2)\n",
        "z"
      ],
      "metadata": {
        "colab": {
          "base_uri": "https://localhost:8080/"
        },
        "id": "neoz7QwCf3TT",
        "outputId": "de2c8d6d-db92-47dc-b019-ff537b52ce8c"
      },
      "execution_count": 2,
      "outputs": [
        {
          "output_type": "execute_result",
          "data": {
            "text/plain": [
              "1.959963984540054"
            ]
          },
          "metadata": {},
          "execution_count": 2
        }
      ]
    },
    {
      "cell_type": "markdown",
      "source": [
        "считаем интервал"
      ],
      "metadata": {
        "id": "4NN0TgJzfCID"
      }
    },
    {
      "cell_type": "code",
      "source": [
        "d=z*16/math.sqrt(256)\n",
        "d"
      ],
      "metadata": {
        "colab": {
          "base_uri": "https://localhost:8080/"
        },
        "id": "vOFQHof2gCbP",
        "outputId": "9fa5be66-61fe-45f5-b997-0888d5b3e238"
      },
      "execution_count": 3,
      "outputs": [
        {
          "output_type": "execute_result",
          "data": {
            "text/plain": [
              "1.959963984540054"
            ]
          },
          "metadata": {},
          "execution_count": 3
        }
      ]
    },
    {
      "cell_type": "markdown",
      "source": [
        "Ответ 1: Доверительный интервал: 80 +/- 1.959963984540054"
      ],
      "metadata": {
        "id": "MwryqOG6e3HG"
      }
    },
    {
      "cell_type": "markdown",
      "source": [
        "**Задача 2**"
      ],
      "metadata": {
        "id": "2bmIwKJsgJ5X"
      }
    },
    {
      "cell_type": "markdown",
      "source": [
        "В результате 10 независимых измерений некоторой величины X, выполненных с одинаковой точностью, получены опытные данные: 6.9, 6.1, 6.2, 6.8, 7.5, 6.3, 6.4, 6.9, 6.7, 6.1 Предполагая, что результаты измерений подчинены нормальному закону распределения вероятностей, оценить истинное значение величины X при помощи доверительного интервала, покрывающего это значение с доверительной вероятностью 0,95."
      ],
      "metadata": {
        "id": "usiegvjTgL59"
      }
    },
    {
      "cell_type": "code",
      "source": [
        "\n",
        "ar=np.array([6.9, 6.1, 6.2, 6.8, 7.5, 6.3, 6.4, 6.9, 6.7, 6.1])"
      ],
      "metadata": {
        "id": "NCBwztsJgNW-"
      },
      "execution_count": 4,
      "outputs": []
    },
    {
      "cell_type": "markdown",
      "source": [
        "считаем кол-во в выборке, СКО и мат ожидание"
      ],
      "metadata": {
        "id": "oDEEJFNmgTJh"
      }
    },
    {
      "cell_type": "code",
      "source": [
        "n=ar.size\n",
        "std=ar.std(ddof=1)\n",
        "mean=ar.mean()\n",
        "n,std,mean"
      ],
      "metadata": {
        "colab": {
          "base_uri": "https://localhost:8080/"
        },
        "id": "gBHsznJDgW0z",
        "outputId": "49055336-98d7-437c-b886-a1f0c9877e3c"
      },
      "execution_count": 5,
      "outputs": [
        {
          "output_type": "execute_result",
          "data": {
            "text/plain": [
              "(10, 0.4508017549014448, 6.590000000000001)"
            ]
          },
          "metadata": {},
          "execution_count": 5
        }
      ]
    },
    {
      "cell_type": "markdown",
      "source": [
        "считаем интервал"
      ],
      "metadata": {
        "id": "EBWt3VcAgcKW"
      }
    },
    {
      "cell_type": "code",
      "source": [
        "z=norm.ppf((1+0.95)/2)\n",
        "d=z*std/math.sqrt(n)\n",
        "d"
      ],
      "metadata": {
        "colab": {
          "base_uri": "https://localhost:8080/"
        },
        "id": "MhVRVYrGgc_6",
        "outputId": "6070def6-6212-45ac-b802-c28ea43bd9a2"
      },
      "execution_count": 6,
      "outputs": [
        {
          "output_type": "execute_result",
          "data": {
            "text/plain": [
              "0.279404688242094"
            ]
          },
          "metadata": {},
          "execution_count": 6
        }
      ]
    },
    {
      "cell_type": "markdown",
      "source": [
        "Ответ 2: Значение величины 6,59 +/-0.279404688242094"
      ],
      "metadata": {
        "id": "m2VWS4YWghzq"
      }
    },
    {
      "cell_type": "markdown",
      "source": [
        "**Задача 3**"
      ],
      "metadata": {
        "id": "eQDdvFjygis_"
      }
    },
    {
      "cell_type": "markdown",
      "source": [
        "Утверждается, что шарики для подшипников, изготовленные автоматическим станком, имеют средний диаметр 17 мм.\n",
        "Используя односторонний критерий с α=0,05, проверить эту гипотезу, если в выборке из n=100 шариков средний диаметр\n",
        "оказался равным 17.5 мм, а дисперсия известна и равна 4 мм."
      ],
      "metadata": {
        "id": "ADoKhpgvgl4c"
      }
    },
    {
      "cell_type": "markdown",
      "source": [
        "определяем переменные α, выборка, дисперсия и СКО"
      ],
      "metadata": {
        "id": "x-9ITb9wgqFy"
      }
    },
    {
      "cell_type": "code",
      "source": [
        "a=0.05\n",
        "n=100\n",
        "disp=4\n",
        "std=math.sqrt(disp)"
      ],
      "metadata": {
        "id": "AAI5YrDRgtL-"
      },
      "execution_count": 7,
      "outputs": []
    },
    {
      "cell_type": "markdown",
      "source": [
        "считаем критическое z для 5%"
      ],
      "metadata": {
        "id": "QobxLl8Ngxtk"
      }
    },
    {
      "cell_type": "code",
      "source": [
        "zt=norm.ppf(1-a)\n",
        "zt"
      ],
      "metadata": {
        "colab": {
          "base_uri": "https://localhost:8080/"
        },
        "id": "pZg1oJVUgypg",
        "outputId": "1977cca4-75b4-420f-9440-e2c7a23a71e3"
      },
      "execution_count": 8,
      "outputs": [
        {
          "output_type": "execute_result",
          "data": {
            "text/plain": [
              "1.6448536269514722"
            ]
          },
          "metadata": {},
          "execution_count": 8
        }
      ]
    },
    {
      "cell_type": "markdown",
      "source": [
        "считаем z для 17,5мм"
      ],
      "metadata": {
        "id": "kg_hS6A7g4Dc"
      }
    },
    {
      "cell_type": "code",
      "source": [
        "zh=(17.5-17)/std/math.sqrt(n)\n",
        "zh"
      ],
      "metadata": {
        "colab": {
          "base_uri": "https://localhost:8080/"
        },
        "id": "CFuwLKyDg5Dw",
        "outputId": "e62a346b-2b1d-4646-eb88-61b30f795ee3"
      },
      "execution_count": 9,
      "outputs": [
        {
          "output_type": "execute_result",
          "data": {
            "text/plain": [
              "0.025"
            ]
          },
          "metadata": {},
          "execution_count": 9
        }
      ]
    },
    {
      "cell_type": "markdown",
      "source": [
        "\n",
        "сравним zt и zh, если zh меньше zt то H0 гипотеза верна на уровне значимости 5%"
      ],
      "metadata": {
        "id": "BReeh5yjg9Xx"
      }
    },
    {
      "cell_type": "code",
      "source": [
        "if zt > zh:\n",
        "    print(\"Ответ 3: гипотеза H0 верна, шарики имеют средний диаметр 17 мм\")"
      ],
      "metadata": {
        "colab": {
          "base_uri": "https://localhost:8080/"
        },
        "id": "OpA0LVq5g-eJ",
        "outputId": "47c4ca7f-ba48-46bf-d2bc-251e0be7881c"
      },
      "execution_count": 10,
      "outputs": [
        {
          "output_type": "stream",
          "name": "stdout",
          "text": [
            "Ответ 3: гипотеза H0 верна, шарики имеют средний диаметр 17 мм\n"
          ]
        }
      ]
    },
    {
      "cell_type": "markdown",
      "source": [
        "**Задача 4**"
      ],
      "metadata": {
        "id": "_vrrWdQShEV0"
      }
    },
    {
      "cell_type": "markdown",
      "source": [
        "Продавец утверждает, что средний вес пачки печенья составляет 200 г. Из партии извлечена выборка из 10 пачек. Вес каждой пачки составляет: 202, 203, 199, 197, 195, 201, 200, 204, 194, 190. Известно, что их веса распределены нормально. Верно ли утверждение продавца, если учитывать, что доверительная вероятность равна 99%?"
      ],
      "metadata": {
        "id": "9kZa4w8OhGx1"
      }
    },
    {
      "cell_type": "code",
      "source": [
        "ar=np.array([202, 203, 199, 197, 195, 201, 200, 204, 194, 190])"
      ],
      "metadata": {
        "id": "KxqYNEDDhI6I"
      },
      "execution_count": 11,
      "outputs": []
    },
    {
      "cell_type": "code",
      "source": [
        "H0=200\n",
        "a=0.99\n",
        "n=10"
      ],
      "metadata": {
        "id": "RgxN7i-9hM-7"
      },
      "execution_count": 12,
      "outputs": []
    },
    {
      "cell_type": "markdown",
      "source": [
        "считаем ско и мат ожидание"
      ],
      "metadata": {
        "id": "2JT18lC4hPLu"
      }
    },
    {
      "cell_type": "code",
      "source": [
        "std=ar.std(ddof=1)\n",
        "mean=ar.mean()\n",
        "std,mean"
      ],
      "metadata": {
        "colab": {
          "base_uri": "https://localhost:8080/"
        },
        "id": "59d6Ygg7hQWU",
        "outputId": "80928478-04f8-4c18-91e4-1b592b4d3f31"
      },
      "execution_count": 13,
      "outputs": [
        {
          "output_type": "execute_result",
          "data": {
            "text/plain": [
              "(4.453463071962462, 198.5)"
            ]
          },
          "metadata": {},
          "execution_count": 13
        }
      ]
    },
    {
      "cell_type": "markdown",
      "source": [
        "считаем критическое z для 1% т.к. 200>198.5 будем считать слева. Гипотеза H0 будет верна если zt<zh"
      ],
      "metadata": {
        "id": "uwMPQ8ePhUh-"
      }
    },
    {
      "cell_type": "code",
      "source": [
        "zt=norm.ppf((1-a)/2)\n",
        "zt"
      ],
      "metadata": {
        "colab": {
          "base_uri": "https://localhost:8080/"
        },
        "id": "PldAzzKVhV1f",
        "outputId": "16b943b7-fc3e-44bc-fc72-a4ef34ed17cd"
      },
      "execution_count": 14,
      "outputs": [
        {
          "output_type": "execute_result",
          "data": {
            "text/plain": [
              "-2.5758293035489004"
            ]
          },
          "metadata": {},
          "execution_count": 14
        }
      ]
    },
    {
      "cell_type": "markdown",
      "source": [
        "считаем z для 198.5г."
      ],
      "metadata": {
        "id": "g-QQb9eshZi5"
      }
    },
    {
      "cell_type": "code",
      "source": [
        "zh=(mean-H0)/std/math.sqrt(n)\n",
        "zh"
      ],
      "metadata": {
        "colab": {
          "base_uri": "https://localhost:8080/"
        },
        "id": "0N3s3rClhagC",
        "outputId": "4f77a5b2-6e6a-4057-fcae-6df23242e733"
      },
      "execution_count": 15,
      "outputs": [
        {
          "output_type": "execute_result",
          "data": {
            "text/plain": [
              "-0.10651074037450894"
            ]
          },
          "metadata": {},
          "execution_count": 15
        }
      ]
    },
    {
      "cell_type": "markdown",
      "source": [
        "сравним zt и zh, если zh больше zt то H0 гипотеза верна на уровне значимости 99%"
      ],
      "metadata": {
        "id": "5gLmHuBBhfKT"
      }
    },
    {
      "cell_type": "code",
      "source": [
        "if zt < zh:\n",
        "    print(\"Ответ 4: утверждение продавца верно\")"
      ],
      "metadata": {
        "colab": {
          "base_uri": "https://localhost:8080/"
        },
        "id": "KvgtYTI3hg7z",
        "outputId": "4c2aaf12-48f4-426e-b732-4c767e81bfbb"
      },
      "execution_count": 16,
      "outputs": [
        {
          "output_type": "stream",
          "name": "stdout",
          "text": [
            "Ответ 4: утверждение продавца верно\n"
          ]
        }
      ]
    }
  ]
}